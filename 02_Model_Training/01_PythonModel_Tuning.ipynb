{
 "cells": [
  {
   "cell_type": "markdown",
   "metadata": {
    "application/vnd.databricks.v1+cell": {
     "cellMetadata": {
      "byteLimit": 2048000,
      "rowLimit": 10000
     },
     "inputWidgets": {},
     "nuid": "5f83b3f4-16e0-4419-8dd9-4aa8611bcaf9",
     "showTitle": false,
     "title": ""
    }
   },
   "source": [
    "# AirBnb NY Listing Price Prediction: Python Model Tuning"
   ]
  },
  {
   "cell_type": "markdown",
   "metadata": {
    "application/vnd.databricks.v1+cell": {
     "cellMetadata": {
      "byteLimit": 2048000,
      "rowLimit": 10000
     },
     "inputWidgets": {},
     "nuid": "ef0ade60-2cf4-45a5-86c5-3e49dc53f3b3",
     "showTitle": false,
     "title": ""
    }
   },
   "source": [
    "\n",
    "Distributed hyperparameter tuning:\n",
    "* Fugue Tune [link](https://fugue-tutorials.readthedocs.io/tutorials/tune/index.html), youtube [demo](https://www.youtube.com/watch?v=_GBjqskD8Qk&t=1s)\n",
    "* Official Github repo [link](https://github.com/fugue-project/tune)\n",
    "\n",
    "In this example, a Gradient Boost Model will be tuned from sklearn framework\n"
   ]
  },
  {
   "cell_type": "code",
   "execution_count": 0,
   "metadata": {
    "application/vnd.databricks.v1+cell": {
     "cellMetadata": {
      "byteLimit": 2048000,
      "rowLimit": 10000
     },
     "inputWidgets": {},
     "nuid": "b8971ed1-3894-4b8d-b8c9-b2b6e8bc8d11",
     "showTitle": false,
     "title": ""
    }
   },
   "outputs": [],
   "source": [
    "import pandas as pd\n",
    "import os\n",
    "import numpy as np\n",
    "import mlflow\n",
    "from datetime import datetime\n",
    "\n",
    "from typing import Any\n",
    "from sklearn.metrics import make_scorer, mean_absolute_percentage_error, mean_squared_error, r2_score\n",
    "from sklearn.model_selection import cross_val_score, cross_validate\n",
    "from tune import Space, Rand, RandInt, Grid, suggest_for_noniterative_objective\n",
    "from tune_hyperopt import HyperoptLocalOptimizer\n",
    "from tune_optuna import  OptunaLocalOptimizer\n",
    "\n",
    "from sklearn.ensemble import GradientBoostingRegressor"
   ]
  },
  {
   "cell_type": "markdown",
   "metadata": {
    "application/vnd.databricks.v1+cell": {
     "cellMetadata": {
      "byteLimit": 2048000,
      "rowLimit": 10000
     },
     "inputWidgets": {},
     "nuid": "9b07fbe8-2f88-4633-8efa-c0c4c41969af",
     "showTitle": false,
     "title": ""
    }
   },
   "source": [
    "### Split into Train & Test"
   ]
  },
  {
   "cell_type": "code",
   "execution_count": 0,
   "metadata": {
    "application/vnd.databricks.v1+cell": {
     "cellMetadata": {
      "byteLimit": 2048000,
      "rowLimit": 10000
     },
     "inputWidgets": {},
     "nuid": "c6fcbe52-e74b-4fad-bf7e-593e253c3425",
     "showTitle": false,
     "title": ""
    }
   },
   "outputs": [],
   "source": [
    "# Set up variables\n",
    "catalog_ = os.getenv('CATALOG_NAME')\n",
    "schema_ = os.getenv('SCHEMA_NAME')\n",
    "spark.sql(\"USE CATALOG \"+catalog_)\n",
    "spark.sql(\"USE SCHEMA \"+schema_)\n",
    "\n",
    "SEED_ = 111\n",
    "target_metric = 'price_log'\n",
    "experiment_name_ = 'Airbnb_NY_Tuning'"
   ]
  },
  {
   "cell_type": "code",
   "execution_count": 0,
   "metadata": {
    "application/vnd.databricks.v1+cell": {
     "cellMetadata": {
      "byteLimit": 2048000,
      "rowLimit": 10000
     },
     "inputWidgets": {},
     "nuid": "4e6f2c4a-4646-42c7-89e9-998af63af3a5",
     "showTitle": false,
     "title": ""
    }
   },
   "outputs": [],
   "source": [
    "# Split data\n",
    "gold_data = spark.sql(\"SELECT * from airbnb_ny_gold_data\")\n",
    "train_df, test_df = gold_data.randomSplit([.85, .15], seed = SEED_)\n",
    "train_df = train_df.toPandas()\n",
    "test_df = test_df.toPandas()\n",
    "\n",
    "display(train_df.head(2))"
   ]
  },
  {
   "cell_type": "code",
   "execution_count": 0,
   "metadata": {
    "application/vnd.databricks.v1+cell": {
     "cellMetadata": {
      "byteLimit": 2048000,
      "rowLimit": 10000
     },
     "inputWidgets": {},
     "nuid": "7179847c-0bea-480b-959e-931e131eb31a",
     "showTitle": false,
     "title": ""
    }
   },
   "outputs": [],
   "source": [
    "# Convert data into np arrays\n",
    "xTrain = train_df.iloc[:, 1:-2].to_numpy()\n",
    "yTrain = train_df.loc[:, target_metric].to_numpy()\n",
    "\n",
    "xTest = test_df.iloc[:, 1:-2].to_numpy()\n",
    "yTest = test_df.loc[:, target_metric].to_numpy()"
   ]
  },
  {
   "cell_type": "markdown",
   "metadata": {
    "application/vnd.databricks.v1+cell": {
     "cellMetadata": {
      "byteLimit": 2048000,
      "rowLimit": 10000
     },
     "inputWidgets": {},
     "nuid": "f44d9dd1-2c69-4f0c-90b0-d41f47943957",
     "showTitle": false,
     "title": ""
    }
   },
   "source": [
    "### Hyperparameter tuning with Fugue-Tune"
   ]
  },
  {
   "cell_type": "code",
   "execution_count": 0,
   "metadata": {
    "application/vnd.databricks.v1+cell": {
     "cellMetadata": {
      "byteLimit": 2048000,
      "rowLimit": 10000
     },
     "inputWidgets": {},
     "nuid": "8c452021-9197-4d58-8e29-73475074a1f1",
     "showTitle": false,
     "title": ""
    }
   },
   "outputs": [],
   "source": [
    "## Define Cross Validation params\n",
    "num_CV = 3\n",
    "x = xTrain\n",
    "y = yTrain"
   ]
  },
  {
   "cell_type": "code",
   "execution_count": 0,
   "metadata": {
    "application/vnd.databricks.v1+cell": {
     "cellMetadata": {
      "byteLimit": 2048000,
      "rowLimit": 10000
     },
     "inputWidgets": {},
     "nuid": "767d1943-fbc1-4eb0-a1c6-8211b81250c1",
     "showTitle": false,
     "title": ""
    }
   },
   "outputs": [],
   "source": [
    "## Define an objective function (single metric)\n",
    "def objective(model:Any, **hp) -> float:\n",
    "  model_iter = model(**hp) # leave naming as model due to tune.Space()\n",
    "  scores = cross_val_score(model_iter, x, y, cv = num_CV,\n",
    "                           scoring = make_scorer(r2_score))\n",
    "  \n",
    "  return scores.mean()"
   ]
  },
  {
   "cell_type": "code",
   "execution_count": 0,
   "metadata": {
    "application/vnd.databricks.v1+cell": {
     "cellMetadata": {
      "byteLimit": 2048000,
      "rowLimit": 10000
     },
     "inputWidgets": {},
     "nuid": "185958a7-8777-4a4a-90b2-0816912bfeac",
     "showTitle": false,
     "title": ""
    }
   },
   "outputs": [],
   "source": [
    "# Train basic models as baseline\n",
    "print(objective(GradientBoostingRegressor))"
   ]
  },
  {
   "cell_type": "code",
   "execution_count": 0,
   "metadata": {
    "application/vnd.databricks.v1+cell": {
     "cellMetadata": {
      "byteLimit": 2048000,
      "rowLimit": 10000
     },
     "inputWidgets": {},
     "nuid": "38006b46-a18a-4df4-9fc8-9d4540f59e60",
     "showTitle": false,
     "title": ""
    }
   },
   "outputs": [],
   "source": [
    "## Define Search space\n",
    "## Each grid combination will be trained\n",
    "\n",
    "XBGspace1 = Space(\n",
    "  model = GradientBoostingRegressor,\n",
    "  learning_rate = Rand(0.03, 1.6, 0.03)\n",
    ").sample(3, seed = SEED_)\n",
    "\n",
    "space2 = Space(\n",
    "  random_state = SEED_,\n",
    "  max_features = Grid('sqrt', 'log2', None), # Max number of features to consider when looking for the best split\n",
    "  max_depth = Grid(5, 50, None), # Maximum depth of the individual estimators\n",
    "  n_estimators = RandInt(10, 700, include_high=True) # Nr of trees, Bayesian\n",
    ")\n",
    "\n",
    "space_XGB = XBGspace1 * space2\n",
    "\n",
    "print(\"XGB tot combinations: %3d\\n\" % len(list(space_XGB)))\n",
    "#print(list(space_XGB))"
   ]
  },
  {
   "cell_type": "code",
   "execution_count": 0,
   "metadata": {
    "application/vnd.databricks.v1+cell": {
     "cellMetadata": {},
     "inputWidgets": {},
     "nuid": "a6bdd59c-408d-4a5e-a2b8-30ba339072f9",
     "showTitle": false,
     "title": ""
    }
   },
   "outputs": [],
   "source": [
    "## Set up the MLFlow Experiment\n",
    "experiment_path = f'/Users/gabriele.albini@databricks.com/{experiment_name_}'\n",
    "experiment = mlflow.get_experiment_by_name(experiment_path)\n",
    "\n",
    "if experiment is not None:\n",
    "    experiment_id = experiment.experiment_id\n",
    "else:\n",
    "    experiment_id = mlflow.create_experiment(name=experiment_path)\n",
    "\n",
    "print(experiment_id)"
   ]
  },
  {
   "cell_type": "code",
   "execution_count": 0,
   "metadata": {
    "application/vnd.databricks.v1+cell": {
     "cellMetadata": {
      "byteLimit": 2048000,
      "rowLimit": 10000
     },
     "inputWidgets": {},
     "nuid": "b7a83039-e775-41e5-aa4b-feb5592ca66e",
     "showTitle": false,
     "title": ""
    }
   },
   "outputs": [],
   "source": [
    "## Run hyper parameter search on XGB\n",
    "Max_Iter = 10\n",
    "\n",
    "with mlflow.start_run(experiment_id=experiment_id, run_name=\"XGB_sklearn_FugueTune\") as run:\n",
    "    result_ = suggest_for_noniterative_objective(\n",
    "        objective=objective,\n",
    "        space=space_XGB,\n",
    "        local_optimizer=OptunaLocalOptimizer(max_iter=Max_Iter), # HyperoptLocalOptimizer or OptunaLocalOptimizer\n",
    "        execution_engine=spark,\n",
    "        logger=run\n",
    "    )"
   ]
  }
 ],
 "metadata": {
  "application/vnd.databricks.v1+notebook": {
   "dashboards": [],
   "environmentMetadata": null,
   "language": "python",
   "notebookMetadata": {
    "mostRecentlyExecutedCommandWithImplicitDF": {
     "commandId": 4145428257173881,
     "dataframes": [
      "_sqldf"
     ]
    },
    "pythonIndentUnit": 2
   },
   "notebookName": "01_PythonModel_Tuning",
   "widgets": {}
  }
 },
 "nbformat": 4,
 "nbformat_minor": 0
}
