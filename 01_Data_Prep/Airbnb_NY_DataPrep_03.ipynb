{
 "cells": [
  {
   "cell_type": "markdown",
   "metadata": {
    "application/vnd.databricks.v1+cell": {
     "cellMetadata": {
      "byteLimit": 2048000,
      "rowLimit": 10000
     },
     "inputWidgets": {},
     "nuid": "5f83b3f4-16e0-4419-8dd9-4aa8611bcaf9",
     "showTitle": false,
     "title": ""
    }
   },
   "source": [
    "# AirBnb NY Listing Price Prediction: Data Preparation | Step 3"
   ]
  },
  {
   "cell_type": "code",
   "execution_count": 0,
   "metadata": {
    "application/vnd.databricks.v1+cell": {
     "cellMetadata": {
      "byteLimit": 2048000,
      "rowLimit": 10000
     },
     "inputWidgets": {},
     "nuid": "b8971ed1-3894-4b8d-b8c9-b2b6e8bc8d11",
     "showTitle": false,
     "title": ""
    }
   },
   "outputs": [],
   "source": [
    "import pandas as pd\n",
    "import os\n",
    "from pyspark.sql.functions import *"
   ]
  },
  {
   "cell_type": "markdown",
   "metadata": {
    "application/vnd.databricks.v1+cell": {
     "cellMetadata": {
      "byteLimit": 2048000,
      "rowLimit": 10000
     },
     "inputWidgets": {},
     "nuid": "4cd14fdd-baeb-4fcf-86f4-a469eb4389ac",
     "showTitle": false,
     "title": ""
    }
   },
   "source": [
    "### Catalog, Schema"
   ]
  },
  {
   "cell_type": "code",
   "execution_count": 0,
   "metadata": {
    "application/vnd.databricks.v1+cell": {
     "cellMetadata": {
      "byteLimit": 2048000,
      "rowLimit": 10000
     },
     "inputWidgets": {},
     "nuid": "0900a1ed-ed9d-4e43-82ca-e5680c982f19",
     "showTitle": false,
     "title": ""
    }
   },
   "outputs": [],
   "source": [
    "## Parameters from cluster variables\n",
    "catalog_ = os.getenv('CATALOG_NAME')\n",
    "schema_ = os.getenv('SCHEMA_NAME')\n",
    "\n",
    "## Parameters from job\n",
    "#catalog_ = dbutils.widgets.get(\"CATALOG_NAME\")\n",
    "#schema_ = dbutils.widgets.get(\"SCHEMA_NAME\")"
   ]
  },
  {
   "cell_type": "code",
   "execution_count": 0,
   "metadata": {
    "application/vnd.databricks.v1+cell": {
     "cellMetadata": {
      "byteLimit": 2048000,
      "rowLimit": 10000
     },
     "inputWidgets": {},
     "nuid": "c6fcbe52-e74b-4fad-bf7e-593e253c3425",
     "showTitle": false,
     "title": ""
    }
   },
   "outputs": [],
   "source": [
    "spark.sql(\"USE CATALOG \"+catalog_)\n",
    "spark.sql(\"USE SCHEMA \"+schema_)"
   ]
  },
  {
   "cell_type": "markdown",
   "metadata": {
    "application/vnd.databricks.v1+cell": {
     "cellMetadata": {
      "byteLimit": 2048000,
      "rowLimit": 10000
     },
     "inputWidgets": {},
     "nuid": "c0e2d29c-a1ee-434e-aa14-6aeb80dabb62",
     "showTitle": false,
     "title": ""
    }
   },
   "source": [
    "### [Gold data] Finalize data preparation for ML"
   ]
  },
  {
   "cell_type": "markdown",
   "metadata": {
    "application/vnd.databricks.v1+cell": {
     "cellMetadata": {
      "byteLimit": 2048000,
      "rowLimit": 10000
     },
     "inputWidgets": {},
     "nuid": "8cb218ad-2b76-4e4a-b20e-85813eeb7311",
     "showTitle": false,
     "title": ""
    }
   },
   "source": [
    "Steps required:\n",
    "\n",
    "* Remove uninformative columns (same value on all rows or different values on every row, columns with >50% Null values)\n",
    "* Remove NAs\n",
    "* Encode required categorical columns\n"
   ]
  },
  {
   "cell_type": "markdown",
   "metadata": {
    "application/vnd.databricks.v1+cell": {
     "cellMetadata": {
      "byteLimit": 2048000,
      "rowLimit": 10000
     },
     "inputWidgets": {},
     "nuid": "00d44ab7-7dc8-4edf-ab2f-bdb6dd251840",
     "showTitle": false,
     "title": ""
    }
   },
   "source": [
    "#### 1-Remove Uninformative Columns & NAs"
   ]
  },
  {
   "cell_type": "code",
   "execution_count": 0,
   "metadata": {
    "application/vnd.databricks.v1+cell": {
     "cellMetadata": {
      "byteLimit": 2048000,
      "rowLimit": 10000
     },
     "inputWidgets": {},
     "nuid": "a8116e47-e91d-4a32-90b1-6083cee2fb95",
     "showTitle": false,
     "title": ""
    }
   },
   "outputs": [],
   "source": [
    "gold1_sdf = spark.sql(\"SELECT * from airbnb_ny_silver_data\")\n",
    "gold1 = gold1_sdf.toPandas()\n",
    "#display(gold1.info())"
   ]
  },
  {
   "cell_type": "code",
   "execution_count": 0,
   "metadata": {
    "application/vnd.databricks.v1+cell": {
     "cellMetadata": {
      "byteLimit": 2048000,
      "rowLimit": 10000
     },
     "inputWidgets": {},
     "nuid": "9605ff45-7a27-4bb6-8179-36dbe43c6068",
     "showTitle": false,
     "title": ""
    }
   },
   "outputs": [],
   "source": [
    "#gold1.describe(percentiles=[.25, .5, .75])"
   ]
  },
  {
   "cell_type": "code",
   "execution_count": 0,
   "metadata": {
    "application/vnd.databricks.v1+cell": {
     "cellMetadata": {
      "byteLimit": 2048000,
      "rowLimit": 10000
     },
     "inputWidgets": {},
     "nuid": "e213d14d-37c2-4f98-99dd-88c2c6064439",
     "showTitle": false,
     "title": ""
    }
   },
   "outputs": [],
   "source": [
    "# Drop columns\n",
    "to_drop = ['name','host_id','house_rules','license','host_name', ## Too many unique values\n",
    "           'last_review', 'reviews_per_month',  ## Too many null values\n",
    "           'country','country_code', ## Too few unique values\n",
    "           'service_fee' ## Unlikely this info is available when we predict the price\n",
    "           ]\n",
    "for c in to_drop:\n",
    "  gold1_sdf = gold1_sdf.drop(c)\n",
    "\n",
    "gold_step1 = gold1_sdf.toPandas()\n",
    "#display(gold_step1.info())"
   ]
  },
  {
   "cell_type": "code",
   "execution_count": 0,
   "metadata": {
    "application/vnd.databricks.v1+cell": {
     "cellMetadata": {
      "byteLimit": 2048000,
      "rowLimit": 10000
     },
     "inputWidgets": {},
     "nuid": "37e5d104-a08c-41c9-8a76-827caf3148e8",
     "showTitle": false,
     "title": ""
    }
   },
   "outputs": [],
   "source": [
    "# Drop NAs\n",
    "for c in list(gold1_sdf.columns):\n",
    "  len_pre = gold1_sdf.count()\n",
    "  gold1_sdf = gold1_sdf.dropna(subset=c)\n",
    "  len_post = gold1_sdf.count()\n",
    "  #if len_pre>len_post:\n",
    "    #print(\":: On col %s, removed %4d NAs\" % (c, len_pre - len_post))"
   ]
  },
  {
   "cell_type": "markdown",
   "metadata": {
    "application/vnd.databricks.v1+cell": {
     "cellMetadata": {
      "byteLimit": 2048000,
      "rowLimit": 10000
     },
     "inputWidgets": {},
     "nuid": "d978d289-6bd2-4714-ac4e-d14466a272a9",
     "showTitle": false,
     "title": ""
    }
   },
   "source": [
    "#### 2-Encode Categorical Columns"
   ]
  },
  {
   "cell_type": "markdown",
   "metadata": {
    "application/vnd.databricks.v1+cell": {
     "cellMetadata": {
      "byteLimit": 2048000,
      "rowLimit": 10000
     },
     "inputWidgets": {},
     "nuid": "6b40cba4-132b-45e4-b104-1322aca7e245",
     "showTitle": false,
     "title": ""
    }
   },
   "source": [
    "Since we will be using tree based algorithms, we will do an **Ordinal Encoding** and also a **One Hot Encoding**."
   ]
  },
  {
   "cell_type": "code",
   "execution_count": 0,
   "metadata": {
    "application/vnd.databricks.v1+cell": {
     "cellMetadata": {
      "byteLimit": 2048000,
      "rowLimit": 10000
     },
     "inputWidgets": {},
     "nuid": "25c24336-2d80-4ea0-b58d-6f50403db560",
     "showTitle": false,
     "title": ""
    }
   },
   "outputs": [],
   "source": [
    "gold1_sdf_bkp = gold1_sdf.select(\"*\")\n",
    "#display(gold1_sdf_bkp.head(1))"
   ]
  },
  {
   "cell_type": "code",
   "execution_count": 0,
   "metadata": {
    "application/vnd.databricks.v1+cell": {
     "cellMetadata": {
      "byteLimit": 2048000,
      "rowLimit": 10000
     },
     "inputWidgets": {},
     "nuid": "088f05e6-8687-42a7-bfc1-d5ee576c983d",
     "showTitle": false,
     "title": ""
    }
   },
   "outputs": [],
   "source": [
    "gold_step2 = gold1_sdf.toPandas()\n",
    "col_to_exclude = ['id']\n",
    "col_ordinal_encoding = {}\n",
    "\n",
    "## Check values per column\n",
    "for col_ in gold_step2.columns:\n",
    "  if gold_step2[col_].dtype == 'object' and col_ not in col_to_exclude:\n",
    "    gold_groupby = gold_step2.groupby(col_).agg(records=('price','count'), avg_price=('price', 'mean'), std_price=('price', 'std'))\n",
    "    gold_groupby.reset_index(inplace=True)\n",
    "    #print(\":: %s has %2d unique values\" % (col_, len(gold_groupby)))\n",
    "    gold_groupby.sort_values(by=col_, inplace=True)\n",
    "    #display(gold_groupby)\n",
    "    ## Encode unique values\n",
    "    values_ = list(gold_groupby[col_])\n",
    "    col_ordinal_encoding[col_] = {categ_value: str(id+1) for id, categ_value in enumerate(values_)} # Make str to avoid mixed type replacement errors\n",
    "    #print(\"\\n\")"
   ]
  },
  {
   "cell_type": "markdown",
   "metadata": {
    "application/vnd.databricks.v1+cell": {
     "cellMetadata": {
      "byteLimit": 2048000,
      "rowLimit": 10000
     },
     "inputWidgets": {},
     "nuid": "0e2e25ca-c382-4a67-8fc1-ec5e6ff983e6",
     "showTitle": false,
     "title": ""
    }
   },
   "source": [
    "##### 2.1 Ordinal Encoding"
   ]
  },
  {
   "cell_type": "code",
   "execution_count": 0,
   "metadata": {
    "application/vnd.databricks.v1+cell": {
     "cellMetadata": {
      "byteLimit": 2048000,
      "rowLimit": 10000
     },
     "inputWidgets": {},
     "nuid": "54107a02-4d1c-4304-80fb-c4a6821c098a",
     "showTitle": false,
     "title": ""
    }
   },
   "outputs": [],
   "source": [
    "## Create encoded columns on the dataframe\n",
    "for k, encod_dict in col_ordinal_encoding.items():\n",
    "  gold1_sdf = (\n",
    "    gold1_sdf\n",
    "    .withColumn(f\"{k}_encoded\", col(k))\n",
    "    .replace(to_replace=encod_dict, subset=[k+\"_encoded\"]) # Map dictionary to a column\n",
    "    .withColumn(k+\"_encoded\", col(k+\"_encoded\").cast('float'))\n",
    "  )"
   ]
  },
  {
   "cell_type": "code",
   "execution_count": 0,
   "metadata": {
    "application/vnd.databricks.v1+cell": {
     "cellMetadata": {
      "byteLimit": 2048000,
      "rowLimit": 10000
     },
     "inputWidgets": {},
     "nuid": "f8ffbeee-6961-4846-baf6-8fb28547c777",
     "showTitle": false,
     "title": ""
    }
   },
   "outputs": [],
   "source": [
    "## Persist encoded column info\n",
    "gold1_sdf.createOrReplaceTempView(\"gold_v\")"
   ]
  },
  {
   "cell_type": "code",
   "execution_count": 0,
   "metadata": {
    "application/vnd.databricks.v1+cell": {
     "cellMetadata": {
      "byteLimit": 2048000,
      "implicitDf": true,
      "rowLimit": 10000
     },
     "inputWidgets": {},
     "nuid": "54d62dd9-5a91-4ed4-91e6-a5e6bf515424",
     "showTitle": false,
     "title": ""
    }
   },
   "outputs": [],
   "source": [
    "%sql\n",
    "DROP TABLE IF EXISTS airbnb_ny_gold_data;\n",
    "CREATE TABLE airbnb_ny_gold_data AS\n",
    "Select \n",
    "  id\n",
    "  ,cast(host_identity_verified_encoded as float) as host_identity_verified_encoded\n",
    "  ,cast(neighbourhood_group_encoded as float) as neighbourhood_group_encoded\n",
    "  ,cast(neighbourhood_encoded as float) as neighbourhood_encoded\n",
    "  ,cast(lat as float)\n",
    "  ,cast(long as float)\n",
    "  ,cast(instant_bookable_encoded as float) as instant_bookable_encoded\n",
    "  ,cast(cancellation_policy_encoded as float) as cancellation_policy_encoded\n",
    "  ,cast(room_type_encoded as float) as room_type_encoded\n",
    "  ,cast(construction_year as float) construction_year\n",
    "  ,cast(minimum_nights as float) minimum_nights\n",
    "  ,cast(number_of_reviews as float) number_of_reviews\n",
    "  ,cast(review_rate_number as float) review_rate_number\n",
    "  ,cast(calculated_host_listings_count as float) calculated_host_listings_count\n",
    "  ,cast(availability_365 as float) availability_365\n",
    "  ,cast(price as float) price\n",
    "  ,cast(log(price) as float) price_log\n",
    "from gold_v;"
   ]
  },
  {
   "cell_type": "code",
   "execution_count": 0,
   "metadata": {
    "application/vnd.databricks.v1+cell": {
     "cellMetadata": {
      "byteLimit": 2048000,
      "implicitDf": true,
      "rowLimit": 10000
     },
     "inputWidgets": {},
     "nuid": "86ef7145-ec75-45f7-997b-9274e77b28e3",
     "showTitle": false,
     "title": ""
    }
   },
   "outputs": [],
   "source": [
    "%sql\n",
    "-- SELECT * from gold_data limit 10;"
   ]
  },
  {
   "cell_type": "markdown",
   "metadata": {
    "application/vnd.databricks.v1+cell": {
     "cellMetadata": {
      "byteLimit": 2048000,
      "rowLimit": 10000
     },
     "inputWidgets": {},
     "nuid": "bc79aef5-390a-4f68-b4f5-d8da093f0742",
     "showTitle": false,
     "title": ""
    }
   },
   "source": [
    "##### 2.2-OneHotEncoding"
   ]
  },
  {
   "cell_type": "code",
   "execution_count": 0,
   "metadata": {
    "application/vnd.databricks.v1+cell": {
     "cellMetadata": {
      "byteLimit": 2048000,
      "rowLimit": 10000
     },
     "inputWidgets": {},
     "nuid": "a024b0bd-5d24-4172-80d9-ec49f6455e01",
     "showTitle": false,
     "title": ""
    }
   },
   "outputs": [],
   "source": [
    "gold1_sdf_bkp.createOrReplaceTempView(\"gold_v\")"
   ]
  },
  {
   "cell_type": "code",
   "execution_count": 0,
   "metadata": {
    "application/vnd.databricks.v1+cell": {
     "cellMetadata": {
      "byteLimit": 2048000,
      "implicitDf": true,
      "rowLimit": 10000
     },
     "inputWidgets": {},
     "nuid": "108a281b-ba7c-40d5-a050-2e7ff3757307",
     "showTitle": false,
     "title": ""
    }
   },
   "outputs": [],
   "source": [
    "%sql\n",
    "-- Approach used for the one hot encoding\n",
    "DROP TABLE IF EXISTS airbnb_ny_gold_data_ohe;\n",
    "CREATE TABLE airbnb_ny_gold_data_ohe AS\n",
    "Select \n",
    "  id\n",
    "  ,cast(case when host_identity_verified = 'verified' then 1 else 0 end as float) as is_host_identity_verified\n",
    "  /* Neighborhood groups = Bronx, Brooklyn, Manhattan, Queens, Staten Island */\n",
    "  ,cast(case when neighbourhood_group = 'Bronx' then 1 else 0 end as float) is_neighbourhood_group_Bronx\n",
    "  ,cast(case when neighbourhood_group = 'Brooklyn' then 1 else 0 end as float) is_neighbourhood_group_Brooklyn\n",
    "  ,cast(case when neighbourhood_group = 'Manhattan' then 1 else 0 end as float) is_neighbourhood_group_Manhattan\n",
    "  ,cast(case when neighbourhood_group = 'Queens' then 1 else 0 end as float) is_neighbourhood_group_Queens\n",
    "  /* dropping neighbourhood column */\n",
    "  ,cast(lat as float)\n",
    "  ,cast(long as float)\n",
    "  ,cast(case when instant_bookable = 'TRUE' then 1 else 0 end as float) is_instant_bookable\n",
    "  /* cancellation_policy = flexible, moderate, strict */\n",
    "  ,cast(case when cancellation_policy = 'flexible' then 1 else 0 end as float) is_cancellation_policy_flexible\n",
    "  ,cast(case when cancellation_policy = 'strict' then 1 else 0 end as float) is_cancellation_policy_strict\n",
    "  /* room_type = Entire home/apt, Hotel room, Private room, Shared room */\n",
    "  ,cast(case when room_type = 'Entire home/apt' then 1 else 0 end as float) is_room_type_Entire\n",
    "  ,cast(case when room_type = 'Private room' then 1 else 0 end as float) is_room_type_Privateroom\n",
    "  ,cast(case when room_type = 'Shared room' then 1 else 0 end as float) is_room_type_Sharedroom\n",
    "  ,cast(construction_year as float) construction_year\n",
    "  ,cast(minimum_nights as float) minimum_nights\n",
    "  ,cast(number_of_reviews as float) number_of_reviews\n",
    "  ,cast(review_rate_number as float) review_rate_number\n",
    "  ,cast(calculated_host_listings_count as float) calculated_host_listings_count\n",
    "  ,cast(availability_365 as float) availability_365\n",
    "  ,cast(price as float) price\n",
    "  ,cast(log(price) as float) price_log\n",
    "from gold_v;"
   ]
  },
  {
   "cell_type": "markdown",
   "metadata": {
    "application/vnd.databricks.v1+cell": {
     "cellMetadata": {
      "byteLimit": 2048000,
      "rowLimit": 10000
     },
     "inputWidgets": {},
     "nuid": "76454d03-daad-43d6-a0a3-74ad32e2197b",
     "showTitle": false,
     "title": ""
    }
   },
   "source": [
    "### Final counts"
   ]
  },
  {
   "cell_type": "code",
   "execution_count": 0,
   "metadata": {
    "application/vnd.databricks.v1+cell": {
     "cellMetadata": {
      "byteLimit": 2048000,
      "rowLimit": 10000
     },
     "inputWidgets": {},
     "nuid": "578781a5-d8e1-45c9-9d6c-7f42de35a1b6",
     "showTitle": false,
     "title": ""
    }
   },
   "outputs": [],
   "source": [
    "display(spark.sql(\"select count(*) from airbnb_ny_bronze_data;\"))\n",
    "display(spark.sql(\"select count(*) from airbnb_ny_silver_data;\"))\n",
    "display(spark.sql(\"select count(*) from airbnb_ny_gold_data;\"))\n",
    "display(spark.sql(\"select count(*) from airbnb_ny_gold_data_ohe;\"))"
   ]
  }
 ],
 "metadata": {
  "application/vnd.databricks.v1+notebook": {
   "dashboards": [],
   "environmentMetadata": {
    "base_environment": "",
    "client": "1"
   },
   "language": "python",
   "notebookMetadata": {
    "mostRecentlyExecutedCommandWithImplicitDF": {
     "commandId": 2364501326886792,
     "dataframes": [
      "_sqldf"
     ]
    },
    "pythonIndentUnit": 2
   },
   "notebookName": "Airbnb_NY_DataPrep_03",
   "widgets": {}
  }
 },
 "nbformat": 4,
 "nbformat_minor": 0
}
