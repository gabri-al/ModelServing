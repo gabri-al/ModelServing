{
 "cells": [
  {
   "cell_type": "markdown",
   "metadata": {
    "application/vnd.databricks.v1+cell": {
     "cellMetadata": {
      "byteLimit": 2048000,
      "rowLimit": 10000
     },
     "inputWidgets": {},
     "nuid": "5f83b3f4-16e0-4419-8dd9-4aa8611bcaf9",
     "showTitle": false,
     "title": ""
    }
   },
   "source": [
    "# AirBnb NY Listing Price Prediction: Data Preparation | Step 2"
   ]
  },
  {
   "cell_type": "code",
   "execution_count": 0,
   "metadata": {
    "application/vnd.databricks.v1+cell": {
     "cellMetadata": {
      "byteLimit": 2048000,
      "rowLimit": 10000
     },
     "inputWidgets": {},
     "nuid": "b8971ed1-3894-4b8d-b8c9-b2b6e8bc8d11",
     "showTitle": false,
     "title": ""
    }
   },
   "outputs": [],
   "source": [
    "import pandas as pd\n",
    "import os\n",
    "from pyspark.sql.functions import *"
   ]
  },
  {
   "cell_type": "markdown",
   "metadata": {
    "application/vnd.databricks.v1+cell": {
     "cellMetadata": {
      "byteLimit": 2048000,
      "rowLimit": 10000
     },
     "inputWidgets": {},
     "nuid": "4cd14fdd-baeb-4fcf-86f4-a469eb4389ac",
     "showTitle": false,
     "title": ""
    }
   },
   "source": [
    "### Catalog, Schema"
   ]
  },
  {
   "cell_type": "code",
   "execution_count": 0,
   "metadata": {
    "application/vnd.databricks.v1+cell": {
     "cellMetadata": {
      "byteLimit": 2048000,
      "rowLimit": 10000
     },
     "inputWidgets": {},
     "nuid": "0900a1ed-ed9d-4e43-82ca-e5680c982f19",
     "showTitle": false,
     "title": ""
    }
   },
   "outputs": [],
   "source": [
    "## Parameters from cluster variables\n",
    "#catalog_ = os.getenv('CATALOG_NAME')\n",
    "#schema_ = os.getenv('SCHEMA_NAME')\n",
    "\n",
    "## Parameters from job\n",
    "catalog_ = dbutils.widgets.get(\"CATALOG_NAME\")\n",
    "schema_ = dbutils.widgets.get(\"SCHEMA_NAME\")"
   ]
  },
  {
   "cell_type": "code",
   "execution_count": 0,
   "metadata": {
    "application/vnd.databricks.v1+cell": {
     "cellMetadata": {
      "byteLimit": 2048000,
      "rowLimit": 10000
     },
     "inputWidgets": {},
     "nuid": "c6fcbe52-e74b-4fad-bf7e-593e253c3425",
     "showTitle": false,
     "title": ""
    }
   },
   "outputs": [],
   "source": [
    "spark.sql(\"USE CATALOG \"+catalog_)\n",
    "spark.sql(\"USE SCHEMA \"+schema_)"
   ]
  },
  {
   "cell_type": "markdown",
   "metadata": {
    "application/vnd.databricks.v1+cell": {
     "cellMetadata": {
      "byteLimit": 2048000,
      "rowLimit": 10000
     },
     "inputWidgets": {},
     "nuid": "d72705c0-a569-4c31-b981-5306525ba4e0",
     "showTitle": false,
     "title": ""
    }
   },
   "source": [
    "### Data Cleaning [Silver]"
   ]
  },
  {
   "cell_type": "markdown",
   "metadata": {
    "application/vnd.databricks.v1+cell": {
     "cellMetadata": {
      "byteLimit": 2048000,
      "rowLimit": 10000
     },
     "inputWidgets": {},
     "nuid": "5a7ef873-c186-4979-b293-c6be48a8785a",
     "showTitle": false,
     "title": ""
    }
   },
   "source": [
    "Cleaning steps required:\n",
    "* Remove duplicates\n",
    "* Remove invalid characters from price column (e.g., $ ,)\n",
    "* Remove invalid availabilities (e.g., 0 or >365)"
   ]
  },
  {
   "cell_type": "markdown",
   "metadata": {
    "application/vnd.databricks.v1+cell": {
     "cellMetadata": {
      "byteLimit": 2048000,
      "rowLimit": 10000
     },
     "inputWidgets": {},
     "nuid": "2ed29b19-7a6b-4457-b47f-df2207ba71c2",
     "showTitle": false,
     "title": ""
    }
   },
   "source": [
    "#### 1,2-Remove Duplicates & Convert Column Formats"
   ]
  },
  {
   "cell_type": "markdown",
   "metadata": {
    "application/vnd.databricks.v1+cell": {
     "cellMetadata": {
      "byteLimit": 2048000,
      "implicitDf": true,
      "rowLimit": 10000
     },
     "inputWidgets": {},
     "nuid": "2b70a4dc-e126-4f8b-8196-aefc673bc634",
     "showTitle": false,
     "title": ""
    }
   },
   "source": [
    "-- Duplicates\n",
    "`with d0 (\n",
    "select distinct * from bronze_data)\n",
    "select \"Tot Records\" as count, count(*) value_ from bronze_data\n",
    "  union select \"Unique Records\" as count, count(*) value_ from d0;`"
   ]
  },
  {
   "cell_type": "code",
   "execution_count": 0,
   "metadata": {
    "application/vnd.databricks.v1+cell": {
     "cellMetadata": {
      "byteLimit": 2048000,
      "implicitDf": true,
      "rowLimit": 10000
     },
     "inputWidgets": {},
     "nuid": "fbfef91f-0dc3-43b1-bbbd-e360a72f2728",
     "showTitle": false,
     "title": ""
    }
   },
   "outputs": [],
   "source": [
    "%sql\n",
    "DROP TABLE IF EXISTS airbnb_ny_silver_data;\n",
    "CREATE TABLE airbnb_ny_silver_data AS\n",
    "with d0 as (\n",
    "  -- Remove duplicates and initial cleaning\n",
    "  select distinct *\n",
    "  from airbnb_ny_bronze_data\n",
    "  where (host_identity_verified in ('verified', 'unconfirmed') or host_identity_verified is null) \n",
    "  and availability_365 is not null\n",
    "  and id not in (' Laundry in building  8 mints from A C trains')\n",
    "  and construction_year is not null\n",
    "  and minimum_nights is not null and minimum_nights not like '$%'\n",
    "  and number_of_reviews is not null and number_of_reviews not like '$%'\n",
    "  and review_rate_number is not null and review_rate_number not like '$%' and review_rate_number not like '%/%'\n",
    "  and calculated_host_listings_count is not null and calculated_host_listings_count not like '%.%'\n",
    "  -- Removing a few problematic data\n",
    "), d1 as (\n",
    "  -- Clean up some fields\n",
    "  select id,\t`name`,\thost_id,\thost_identity_verified,\thost_name\n",
    "  ,case when neighbourhood_group = 'brookln' then 'Brooklyn' when neighbourhood_group = 'manhatan' then 'Manhattan' else neighbourhood_group end as neighbourhood_group\n",
    "  ,\tneighbourhood,\tlat,\tlong,\tcountry,\tcountry_code, instant_bookable, cancellation_policy, room_type, construction_year, price, service_fee\n",
    "  ,cast(case when abs(minimum_nights)>365 then 365 else abs(minimum_nights) end as int) as minimum_nights\n",
    "  , number_of_reviews, last_review,\treviews_per_month,\treview_rate_number, calculated_host_listings_count\n",
    "  ,cast(case when abs(availability_365)>365 then 365 else abs(availability_365) end as int) as availability_365\n",
    "  , house_rules, license\n",
    "  from d0\n",
    ")\n",
    "-- Clean and convert numerical fields\n",
    "  select\n",
    "    cast(id as string) id\n",
    "    ,`name`\n",
    "    ,cast(trim(host_id) as string) host_id\n",
    "    ,host_identity_verified, host_name, neighbourhood_group, neighbourhood\n",
    "    ,cast(lat as float) lat\n",
    "    ,cast(long as float) long\n",
    "    ,country,\tcountry_code, instant_bookable, cancellation_policy, room_type\n",
    "    ,cast(construction_year as int) construction_year\n",
    "    ,cast(minimum_nights as int) minimum_nights\n",
    "    ,cast(number_of_reviews as int) number_of_reviews\n",
    "    ,to_timestamp(trim(last_review), 'M/d/yyyy') last_review\n",
    "    ,cast(reviews_per_month as float) reviews_per_month\n",
    "    ,cast(review_rate_number as int) review_rate_number\n",
    "    ,cast(calculated_host_listings_count as int) calculated_host_listings_count\n",
    "    ,cast(availability_365 as int) availability_365\n",
    "    ,house_rules, license\n",
    "    ,cast(\n",
    "      replace(\n",
    "        replace(price, '$', ''),\n",
    "        ',', '')\n",
    "      as float) price\n",
    "    ,cast(\n",
    "      replace(\n",
    "        replace(service_fee, '$', ''),\n",
    "        ',', '')\n",
    "        as float) service_fee\n",
    "from d1;"
   ]
  }
 ],
 "metadata": {
  "application/vnd.databricks.v1+notebook": {
   "dashboards": [],
   "environmentMetadata": {
    "base_environment": "",
    "client": "1"
   },
   "language": "python",
   "notebookMetadata": {
    "mostRecentlyExecutedCommandWithImplicitDF": {
     "commandId": 2364501326886477,
     "dataframes": [
      "_sqldf"
     ]
    },
    "pythonIndentUnit": 2
   },
   "notebookName": "Airbnb_NY_DataPrep_02",
   "widgets": {}
  }
 },
 "nbformat": 4,
 "nbformat_minor": 0
}
