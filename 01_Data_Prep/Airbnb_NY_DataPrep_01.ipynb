{
 "cells": [
  {
   "cell_type": "markdown",
   "metadata": {
    "application/vnd.databricks.v1+cell": {
     "cellMetadata": {
      "byteLimit": 2048000,
      "rowLimit": 10000
     },
     "inputWidgets": {},
     "nuid": "5f83b3f4-16e0-4419-8dd9-4aa8611bcaf9",
     "showTitle": false,
     "title": ""
    }
   },
   "source": [
    "# AirBnb NY Listing Price Prediction: Data Preparation | Step 1"
   ]
  },
  {
   "cell_type": "code",
   "execution_count": 0,
   "metadata": {
    "application/vnd.databricks.v1+cell": {
     "cellMetadata": {
      "byteLimit": 2048000,
      "rowLimit": 10000
     },
     "inputWidgets": {},
     "nuid": "b8971ed1-3894-4b8d-b8c9-b2b6e8bc8d11",
     "showTitle": false,
     "title": ""
    }
   },
   "outputs": [],
   "source": [
    "import pandas as pd\n",
    "import os\n",
    "from pyspark.sql.functions import *"
   ]
  },
  {
   "cell_type": "markdown",
   "metadata": {
    "application/vnd.databricks.v1+cell": {
     "cellMetadata": {
      "byteLimit": 2048000,
      "rowLimit": 10000
     },
     "inputWidgets": {},
     "nuid": "4cd14fdd-baeb-4fcf-86f4-a469eb4389ac",
     "showTitle": false,
     "title": ""
    }
   },
   "source": [
    "### Catalog, Schema"
   ]
  },
  {
   "cell_type": "code",
   "execution_count": 0,
   "metadata": {
    "application/vnd.databricks.v1+cell": {
     "cellMetadata": {
      "byteLimit": 2048000,
      "rowLimit": 10000
     },
     "inputWidgets": {},
     "nuid": "0900a1ed-ed9d-4e43-82ca-e5680c982f19",
     "showTitle": false,
     "title": ""
    }
   },
   "outputs": [],
   "source": [
    "## Parameters from cluster variables\n",
    "#catalog_ = os.getenv('CATALOG_NAME')\n",
    "#schema_ = os.getenv('SCHEMA_NAME')\n",
    "\n",
    "## Parameters from job\n",
    "catalog_ = dbutils.widgets.get(\"CATALOG_NAME\")\n",
    "schema_ = dbutils.widgets.get(\"SCHEMA_NAME\")\n",
    "\n",
    "volume_ = 'airbnb'"
   ]
  },
  {
   "cell_type": "code",
   "execution_count": 0,
   "metadata": {
    "application/vnd.databricks.v1+cell": {
     "cellMetadata": {
      "byteLimit": 2048000,
      "rowLimit": 10000
     },
     "inputWidgets": {},
     "nuid": "c6fcbe52-e74b-4fad-bf7e-593e253c3425",
     "showTitle": false,
     "title": ""
    }
   },
   "outputs": [],
   "source": [
    "spark.sql(\"USE CATALOG \"+catalog_)\n",
    "spark.sql(\"USE SCHEMA \"+schema_)"
   ]
  },
  {
   "cell_type": "markdown",
   "metadata": {
    "application/vnd.databricks.v1+cell": {
     "cellMetadata": {
      "byteLimit": 2048000,
      "rowLimit": 10000
     },
     "inputWidgets": {},
     "nuid": "9b07fbe8-2f88-4633-8efa-c0c4c41969af",
     "showTitle": false,
     "title": ""
    }
   },
   "source": [
    "### Data Ingestion from Volume [Bronze]"
   ]
  },
  {
   "cell_type": "code",
   "execution_count": 0,
   "metadata": {
    "application/vnd.databricks.v1+cell": {
     "cellMetadata": {
      "byteLimit": 2048000,
      "rowLimit": 10000
     },
     "inputWidgets": {},
     "nuid": "6537957e-6e8b-4f0d-ba2f-a9e9fd9a83c9",
     "showTitle": false,
     "title": ""
    }
   },
   "outputs": [],
   "source": [
    "path_ = f\"dbfs:/Volumes/\"+catalog_+\"/\"+schema_+\"/\"+volume_+\"/NY_Listing_cleaned.csv\"\n",
    "bronze_ = (spark.\n",
    "           read.\n",
    "           option(\"header\", True).\n",
    "           option(\"encoding\", \"utf-8\").\n",
    "           csv(path_).\n",
    "           createOrReplaceTempView(\"bronze_v\"))\n",
    "\n",
    "# display(spark.sql(\"SELECT * FROM bronze_v LIMIT 10;\"))\n"
   ]
  },
  {
   "cell_type": "code",
   "execution_count": 0,
   "metadata": {
    "application/vnd.databricks.v1+cell": {
     "cellMetadata": {
      "byteLimit": 2048000,
      "implicitDf": true,
      "rowLimit": 10000
     },
     "inputWidgets": {},
     "nuid": "6608e236-8ae9-437d-8d76-fdbe943bc042",
     "showTitle": false,
     "title": ""
    }
   },
   "outputs": [],
   "source": [
    "%sql\n",
    "DROP TABLE IF EXISTS airbnb_ny_bronze_data;\n",
    "CREATE TABLE airbnb_ny_bronze_data AS\n",
    "  SELECT id, NAME as name, `host id` as host_id, host_identity_verified, `host name` as host_name, `neighbourhood group` as neighbourhood_group\n",
    "    ,neighbourhood, lat, long, country,`country code` as country_code, instant_bookable, cancellation_policy, `room type` as room_type,`Construction year` as construction_year, price, `service fee` as service_fee, `minimum nights` as minimum_nights, `number of reviews` as number_of_reviews, `last review` as last_review, `reviews per month` as reviews_per_month, `review rate number` as review_rate_number,`calculated host listings count` as calculated_host_listings_count, `availability 365` as availability_365, house_rules, license\n",
    "  FROM bronze_v;"
   ]
  }
 ],
 "metadata": {
  "application/vnd.databricks.v1+notebook": {
   "dashboards": [],
   "environmentMetadata": {
    "base_environment": "",
    "client": "1"
   },
   "language": "python",
   "notebookMetadata": {
    "mostRecentlyExecutedCommandWithImplicitDF": {
     "commandId": 2364501326886695,
     "dataframes": [
      "_sqldf"
     ]
    },
    "pythonIndentUnit": 2
   },
   "notebookName": "Airbnb_NY_DataPrep_01",
   "widgets": {}
  }
 },
 "nbformat": 4,
 "nbformat_minor": 0
}
