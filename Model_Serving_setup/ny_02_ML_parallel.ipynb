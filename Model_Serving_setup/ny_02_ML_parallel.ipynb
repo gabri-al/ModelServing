{
 "cells": [
  {
   "cell_type": "markdown",
   "metadata": {
    "application/vnd.databricks.v1+cell": {
     "cellMetadata": {
      "byteLimit": 2048000,
      "rowLimit": 10000
     },
     "inputWidgets": {},
     "nuid": "5f83b3f4-16e0-4419-8dd9-4aa8611bcaf9",
     "showTitle": false,
     "title": ""
    }
   },
   "source": [
    "# AirBnb NY Listing Price Prediction: ML Models Set up"
   ]
  },
  {
   "cell_type": "markdown",
   "metadata": {
    "application/vnd.databricks.v1+cell": {
     "cellMetadata": {},
     "inputWidgets": {},
     "nuid": "64600a60-316b-4e43-b868-3a5eb22ecdd2",
     "showTitle": false,
     "title": ""
    }
   },
   "source": [
    "\n",
    "Distributed hyperparameter tuning:\n",
    "* Fugue Tune [link](https://fugue-tutorials.readthedocs.io/tutorials/tune/index.html), youtube [demo](https://www.youtube.com/watch?v=_GBjqskD8Qk&t=1s)\n",
    "* Official Github repo [link](https://github.com/fugue-project/tune)\n"
   ]
  },
  {
   "cell_type": "code",
   "execution_count": 0,
   "metadata": {
    "application/vnd.databricks.v1+cell": {
     "cellMetadata": {
      "byteLimit": 2048000,
      "rowLimit": 10000
     },
     "inputWidgets": {},
     "nuid": "3db39cfa-8389-4202-b42b-6abdc7dfd06f",
     "showTitle": false,
     "title": ""
    }
   },
   "outputs": [],
   "source": [
    "%pip install mlflow\n",
    "%pip install scikit-learn==1.4.1.post1\n",
    "%pip install fugue\n",
    "%pip install tune\n",
    "%pip install hyperopt"
   ]
  },
  {
   "cell_type": "code",
   "execution_count": 0,
   "metadata": {
    "application/vnd.databricks.v1+cell": {
     "cellMetadata": {
      "byteLimit": 2048000,
      "rowLimit": 10000
     },
     "inputWidgets": {},
     "nuid": "b8971ed1-3894-4b8d-b8c9-b2b6e8bc8d11",
     "showTitle": false,
     "title": ""
    }
   },
   "outputs": [],
   "source": [
    "import pandas as pd\n",
    "import numpy as np\n",
    "import mlflow\n",
    "\n",
    "from typing import Any\n",
    "from sklearn.metrics import make_scorer, mean_absolute_percentage_error\n",
    "from sklearn.model_selection import cross_val_score\n",
    "from tune import Space, Rand, RandInt, Grid, suggest_for_noniterative_objective\n",
    "from tune_hyperopt import HyperoptLocalOptimizer\n",
    "\n",
    "from sklearn.ensemble import RandomForestRegressor, GradientBoostingRegressor"
   ]
  },
  {
   "cell_type": "markdown",
   "metadata": {
    "application/vnd.databricks.v1+cell": {
     "cellMetadata": {
      "byteLimit": 2048000,
      "rowLimit": 10000
     },
     "inputWidgets": {},
     "nuid": "9b07fbe8-2f88-4633-8efa-c0c4c41969af",
     "showTitle": false,
     "title": ""
    }
   },
   "source": [
    "### Split into Train & Test"
   ]
  },
  {
   "cell_type": "code",
   "execution_count": 0,
   "metadata": {
    "application/vnd.databricks.v1+cell": {
     "cellMetadata": {
      "byteLimit": 2048000,
      "rowLimit": 10000
     },
     "inputWidgets": {},
     "nuid": "c6fcbe52-e74b-4fad-bf7e-593e253c3425",
     "showTitle": false,
     "title": ""
    }
   },
   "outputs": [],
   "source": [
    "catalog_ = f\"price_prediction\"\n",
    "schema_ = f\"ny_listing\"\n",
    "spark.sql(\"USE CATALOG \"+catalog_)\n",
    "spark.sql(\"USE SCHEMA \"+schema_)"
   ]
  },
  {
   "cell_type": "code",
   "execution_count": 0,
   "metadata": {
    "application/vnd.databricks.v1+cell": {
     "cellMetadata": {
      "byteLimit": 2048000,
      "rowLimit": 10000
     },
     "inputWidgets": {},
     "nuid": "4e6f2c4a-4646-42c7-89e9-998af63af3a5",
     "showTitle": false,
     "title": ""
    }
   },
   "outputs": [],
   "source": [
    "SEED_ = 142\n",
    "\n",
    "gold_data = spark.sql(\"SELECT * from gold_data\")\n",
    "train_df, test_df = gold_data.randomSplit([.85, .15], seed = SEED_)\n",
    "train_df = train_df.toPandas()\n",
    "test_df = test_df.toPandas()\n",
    "\n",
    "display(train_df.head(2))\n",
    "#display(test_df.head(2))"
   ]
  },
  {
   "cell_type": "code",
   "execution_count": 0,
   "metadata": {
    "application/vnd.databricks.v1+cell": {
     "cellMetadata": {
      "byteLimit": 2048000,
      "rowLimit": 10000
     },
     "inputWidgets": {},
     "nuid": "7179847c-0bea-480b-959e-931e131eb31a",
     "showTitle": false,
     "title": ""
    }
   },
   "outputs": [],
   "source": [
    "# Convert data into np arrays\n",
    "xTrain = train_df.iloc[:, 1:-1].to_numpy()\n",
    "yTrain = train_df.loc[:, 'price'].to_numpy()\n",
    "\n",
    "xTest = test_df.iloc[:, 1:-1].to_numpy()\n",
    "yTest = test_df.loc[:, 'price'].to_numpy()"
   ]
  },
  {
   "cell_type": "markdown",
   "metadata": {
    "application/vnd.databricks.v1+cell": {
     "cellMetadata": {},
     "inputWidgets": {},
     "nuid": "f44d9dd1-2c69-4f0c-90b0-d41f47943957",
     "showTitle": false,
     "title": ""
    }
   },
   "source": [
    "### Hyperparameter tuning with Fugue-Tune"
   ]
  },
  {
   "cell_type": "code",
   "execution_count": 0,
   "metadata": {
    "application/vnd.databricks.v1+cell": {
     "cellMetadata": {
      "byteLimit": 2048000,
      "rowLimit": 10000
     },
     "inputWidgets": {},
     "nuid": "767d1943-fbc1-4eb0-a1c6-8211b81250c1",
     "showTitle": false,
     "title": ""
    }
   },
   "outputs": [],
   "source": [
    "## Define an objective function\n",
    "num_CV = 3\n",
    "x = xTrain\n",
    "y = yTrain\n",
    "\n",
    "def objective(model:Any, **hp) -> float:\n",
    "  model_iter = model(**hp) # leave naming as model due to tune.Space()\n",
    "  scores = cross_val_score(model_iter, x, y, cv = num_CV,\n",
    "                           scoring = make_scorer(mean_absolute_percentage_error))\n",
    "  return scores.mean()"
   ]
  },
  {
   "cell_type": "code",
   "execution_count": 0,
   "metadata": {
    "application/vnd.databricks.v1+cell": {
     "cellMetadata": {
      "byteLimit": 2048000,
      "rowLimit": 10000
     },
     "inputWidgets": {},
     "nuid": "38006b46-a18a-4df4-9fc8-9d4540f59e60",
     "showTitle": false,
     "title": ""
    }
   },
   "outputs": [],
   "source": [
    "## Define a Search space\n",
    "RFspace1 = Space(\n",
    "  model = RandomForestRegressor,\n",
    "  max_features = Grid('sqrt', 'log2', None),\n",
    "  bootstrap = Grid(True, False)\n",
    ")\n",
    "XBGspace1 = Space(\n",
    "  model = GradientBoostingRegressor,\n",
    "  max_depth = RandInt(3, 10)\n",
    ").sample(3, seed = SEED_)\n",
    "\n",
    "space2_bayesian = Space(\n",
    "  n_estimators = RandInt(100,120) # Nr of trees\n",
    ")\n",
    "\n",
    "space_RF = RFspace1 * space2_bayesian\n",
    "space_XGB = XBGspace1 * space2_bayesian\n",
    "\n",
    "print(\"Tot combinations to be tested: %3d\\n\" % (len(list(space_RF))+len(list(space_XGB))) )\n",
    "print(list(space_RF))\n",
    "print(list(space_XGB))"
   ]
  },
  {
   "cell_type": "code",
   "execution_count": 0,
   "metadata": {
    "application/vnd.databricks.v1+cell": {
     "cellMetadata": {
      "byteLimit": 2048000,
      "rowLimit": 10000
     },
     "inputWidgets": {},
     "nuid": "1bfab2ac-9b05-4cbe-b66c-a624d34d415e",
     "showTitle": false,
     "title": ""
    }
   },
   "outputs": [],
   "source": [
    "## Run hyper parameter search\n",
    "experiment_ = mlflow.set_experiment(\"/Users/gabriele.albini@databricks.com/ModelServing_mlflow/NY_Price_Listings_Testing\")\n",
    "with mlflow.start_run(experiment_id=experiment_.experiment_id, run_name=\"Fugue Tune RF\") as run:\n",
    "\n",
    "  result_ = suggest_for_noniterative_objective(\n",
    "    objective = objective,\n",
    "    space = space_RF,\n",
    "    local_optimizer = HyperoptLocalOptimizer(max_iter = 20), # max 20 iterations HyperoptLocalOptimizer(max_iter = 20)\n",
    "    execution_engine = spark,\n",
    "    logger = run\n",
    "    )"
   ]
  },
  {
   "cell_type": "markdown",
   "metadata": {
    "application/vnd.databricks.v1+cell": {
     "cellMetadata": {},
     "inputWidgets": {},
     "nuid": "e80b6ce1-5a93-405c-8cfe-4a65ba5583e6",
     "showTitle": false,
     "title": ""
    }
   },
   "source": [
    "### Baseline model performances"
   ]
  },
  {
   "cell_type": "code",
   "execution_count": 0,
   "metadata": {
    "application/vnd.databricks.v1+cell": {
     "cellMetadata": {
      "byteLimit": 2048000,
      "rowLimit": 10000
     },
     "inputWidgets": {},
     "nuid": "e237b372-965a-4dbc-9b6c-cacd6a855d32",
     "showTitle": false,
     "title": ""
    }
   },
   "outputs": [],
   "source": [
    "RF_baseline = objective(RandomForestRegressor)\n",
    "print(\"RF Baseline score: %.4f\" % RF_baseline)\n",
    "\n",
    "XGB_baseline = objective(GradientBoostingRegressor)\n",
    "print(\"XGB Baseline score: %.4f\" % XGB_baseline)"
   ]
  },
  {
   "cell_type": "markdown",
   "metadata": {
    "application/vnd.databricks.v1+cell": {
     "cellMetadata": {},
     "inputWidgets": {},
     "nuid": "2a0134cf-80de-438d-8e93-a5940cf9efb8",
     "showTitle": false,
     "title": ""
    }
   },
   "source": [
    "### Random Forest : RandomSearch"
   ]
  },
  {
   "cell_type": "code",
   "execution_count": 0,
   "metadata": {
    "application/vnd.databricks.v1+cell": {
     "cellMetadata": {
      "byteLimit": 2048000,
      "rowLimit": 10000
     },
     "inputWidgets": {},
     "nuid": "845e25da-bdf5-4f51-9428-148be1761656",
     "showTitle": false,
     "title": ""
    }
   },
   "outputs": [],
   "source": [
    "base_model_ = RandomForestRegressor()\n",
    "\n",
    "# Set a wide range of hyper parameters\n",
    "hyper_par = {}\n",
    "hyper_par['n_estimators'] = [] + list(range(2, 2000, 10)) # Nr of trees\n",
    "hyper_par['max_depth'] = [] + list(range(10, 110, 11)) # Maximum number of levels in tree\n",
    "hyper_par['max_depth'].append(None)\n",
    "hyper_par['min_samples_split'] = [2, 5, 10] # Minimum number of samples required to split a node\n",
    "hyper_par['min_samples_leaf'] = [1, 2, 4] # Minimum number of samples required at each leaf node\n",
    "hyper_par['max_features'] = ['auto', 'sqrt', None] # Number of features to consider at every split\n",
    "hyper_par['bootstrap'] = [True, False] # Method of selecting samples for training each tree\n",
    "\n",
    "print(hyper_par)"
   ]
  },
  {
   "cell_type": "code",
   "execution_count": 0,
   "metadata": {
    "application/vnd.databricks.v1+cell": {
     "cellMetadata": {
      "byteLimit": 2048000,
      "rowLimit": 10000
     },
     "inputWidgets": {},
     "nuid": "f50cc6df-fa0a-4f90-b65a-bb3f98af9b08",
     "showTitle": false,
     "title": ""
    }
   },
   "outputs": [],
   "source": [
    "# Start Random Search (4hrs in pure python)\n",
    "RFRandom = RandomizedSearchCV(\n",
    "  estimator = base_model_,\n",
    "  param_distributions = hyper_par,\n",
    "  scoring = 'r2',\n",
    "  n_iter = 100,\n",
    "  cv = 3,\n",
    "  verbose=2,\n",
    "  random_state=SEED_,\n",
    "  n_jobs = -1)\n",
    "\n",
    "mlflow.sklearn.autolog()\n",
    "experiment_ = mlflow.set_experiment(\"/Users/gabriele.albini@databricks.com/ModelServing_mlflow/NY_Price_Listings_Testing\")\n",
    "with mlflow.start_run(experiment_id=experiment_.experiment_id, run_name=\"RandomForest Random Search\") as run:\n",
    "  RFRandom.fit(xTrain,yTrain)"
   ]
  },
  {
   "cell_type": "code",
   "execution_count": 0,
   "metadata": {
    "application/vnd.databricks.v1+cell": {
     "cellMetadata": {
      "byteLimit": 2048000,
      "rowLimit": 10000
     },
     "inputWidgets": {},
     "nuid": "77bbef2a-f60b-4349-a005-b4233f4ce513",
     "showTitle": false,
     "title": ""
    }
   },
   "outputs": [],
   "source": [
    "RFRandom_result_df = pd.DataFrame(RFRandom.cv_results_)\n",
    "spark.createDataFrame(RFRandom_result_df).createOrReplaceTempView(\"RF_Random_Search\")"
   ]
  },
  {
   "cell_type": "code",
   "execution_count": 0,
   "metadata": {
    "application/vnd.databricks.v1+cell": {
     "cellMetadata": {
      "byteLimit": 2048000,
      "implicitDf": true,
      "rowLimit": 10000
     },
     "inputWidgets": {},
     "nuid": "0b3cae24-d011-41bc-8d48-2af7ce3ebdca",
     "showTitle": false,
     "title": ""
    }
   },
   "outputs": [],
   "source": [
    "%sql\n",
    "DROP TABLE IF EXISTS RandomForest_RandomSearch;\n",
    "CREATE TABLE RandomForest_RandomSearch AS\n",
    "  select * from RF_Random_Search;"
   ]
  },
  {
   "cell_type": "code",
   "execution_count": 0,
   "metadata": {
    "application/vnd.databricks.v1+cell": {
     "cellMetadata": {
      "byteLimit": 2048000,
      "implicitDf": true,
      "rowLimit": 10000
     },
     "inputWidgets": {},
     "nuid": "2c6aee4a-32f6-4450-b5f6-05570d4d186d",
     "showTitle": false,
     "title": ""
    }
   },
   "outputs": [],
   "source": [
    "%sql\n",
    "select * from RandomForest_RandomSearch order by rank_test_score limit 200;"
   ]
  },
  {
   "cell_type": "markdown",
   "metadata": {
    "application/vnd.databricks.v1+cell": {
     "cellMetadata": {},
     "inputWidgets": {},
     "nuid": "17216e80-8186-4d56-b44e-0e0e9c087bf0",
     "showTitle": false,
     "title": ""
    }
   },
   "source": [
    "### Random Forest : GridSearch"
   ]
  },
  {
   "cell_type": "code",
   "execution_count": 0,
   "metadata": {
    "application/vnd.databricks.v1+cell": {
     "cellMetadata": {
      "byteLimit": 2048000,
      "rowLimit": 10000
     },
     "inputWidgets": {},
     "nuid": "d8b3ad8c-a0ee-4be5-a682-d7fd031fb078",
     "showTitle": false,
     "title": ""
    }
   },
   "outputs": [],
   "source": [
    "base_model_ = RandomForestRegressor(bootstrap=True, max_features=None, min_samples_leaf=1, min_samples_split=2)\n",
    "\n",
    "# Set a wide range of hyper parameters\n",
    "hyper_par = {}\n",
    "hyper_par['n_estimators'] = [] + list(range(250, 2100, 250)) # Nr of trees\n",
    "hyper_par['max_depth'] = [] + list(range(50, 101, 25)) # Maximum number of levels in tree\n",
    "\n",
    "# Reducing grid for testing purposes\n",
    "# hyper_par = {'max_depth' : [None],'max_features': [None],'n_estimators': [10,30]}"
   ]
  },
  {
   "cell_type": "code",
   "execution_count": 0,
   "metadata": {
    "application/vnd.databricks.v1+cell": {
     "cellMetadata": {
      "byteLimit": 2048000,
      "rowLimit": 10000
     },
     "inputWidgets": {},
     "nuid": "47e0088e-9425-49c3-b40d-ee16263679e7",
     "showTitle": false,
     "title": ""
    }
   },
   "outputs": [],
   "source": [
    "# Create Grid Search\n",
    "RFSearch = GridSearchCV(\n",
    "    base_model_,\n",
    "    param_grid = hyper_par,\n",
    "    scoring = 'r2',\n",
    "    cv = 2,  # cv = None: (default 5-fold cross validation)\n",
    "    n_jobs = -1,\n",
    "    verbose=2)"
   ]
  },
  {
   "cell_type": "code",
   "execution_count": 0,
   "metadata": {
    "application/vnd.databricks.v1+cell": {
     "cellMetadata": {
      "byteLimit": 2048000,
      "rowLimit": 10000
     },
     "inputWidgets": {},
     "nuid": "1a66ca81-ad1a-4852-92d1-ea9e934549db",
     "showTitle": false,
     "title": ""
    }
   },
   "outputs": [],
   "source": [
    "# Start and Log GridSearch\n",
    "mlflow.sklearn.autolog()\n",
    "experiment_ = mlflow.set_experiment(\"/Users/gabriele.albini@databricks.com/ModelServing_mlflow/NY_Price_Listings_Testing\")\n",
    "with mlflow.start_run(experiment_id=experiment_.experiment_id, run_name=\"RandomForest Grid Search\") as run:\n",
    "  RFSearch.fit(xTrain,yTrain)"
   ]
  },
  {
   "cell_type": "code",
   "execution_count": 0,
   "metadata": {
    "application/vnd.databricks.v1+cell": {
     "cellMetadata": {
      "byteLimit": 2048000,
      "rowLimit": 10000
     },
     "inputWidgets": {},
     "nuid": "e2011a4d-357c-4e68-90fe-73c3a115c99d",
     "showTitle": false,
     "title": ""
    }
   },
   "outputs": [],
   "source": [
    "RFSearch_result_df = pd.DataFrame(RFSearch.cv_results_)\n",
    "spark.createDataFrame(RFSearch_result_df).createOrReplaceTempView(\"RF_Grid_Search\")"
   ]
  },
  {
   "cell_type": "code",
   "execution_count": 0,
   "metadata": {
    "application/vnd.databricks.v1+cell": {
     "cellMetadata": {
      "byteLimit": 2048000,
      "implicitDf": true,
      "rowLimit": 10000
     },
     "inputWidgets": {},
     "nuid": "926df0d2-c6f1-4bdb-b8e4-5b2cd9a8b6d6",
     "showTitle": false,
     "title": ""
    }
   },
   "outputs": [],
   "source": [
    "%sql\n",
    "DROP TABLE IF EXISTS RandomForest_GridSearch;\n",
    "CREATE TABLE RandomForest_GridSearch AS\n",
    "  select * from RF_Grid_Search;\n",
    "-- select * from RandomForest_GridSearch order by rank_test_score limit 200;"
   ]
  },
  {
   "cell_type": "code",
   "execution_count": 0,
   "metadata": {
    "application/vnd.databricks.v1+cell": {
     "cellMetadata": {
      "byteLimit": 2048000,
      "implicitDf": true,
      "rowLimit": 10000
     },
     "inputWidgets": {},
     "nuid": "f324c9fe-85e9-4b36-95ea-44fd88f59b7b",
     "showTitle": false,
     "title": ""
    }
   },
   "outputs": [],
   "source": [
    "%sql\n",
    "select * from RandomForest_GridSearch order by rank_test_score limit 200;"
   ]
  }
 ],
 "metadata": {
  "application/vnd.databricks.v1+notebook": {
   "dashboards": [],
   "language": "python",
   "notebookMetadata": {
    "mostRecentlyExecutedCommandWithImplicitDF": {
     "commandId": 4145428257173881,
     "dataframes": [
      "_sqldf"
     ]
    },
    "pythonIndentUnit": 2
   },
   "notebookName": "ny_02_ML_parallel",
   "widgets": {}
  }
 },
 "nbformat": 4,
 "nbformat_minor": 0
}
