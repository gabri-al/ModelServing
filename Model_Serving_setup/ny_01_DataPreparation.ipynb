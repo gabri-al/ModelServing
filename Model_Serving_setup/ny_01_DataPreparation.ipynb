{
 "cells": [
  {
   "cell_type": "markdown",
   "metadata": {
    "application/vnd.databricks.v1+cell": {
     "cellMetadata": {
      "byteLimit": 2048000,
      "rowLimit": 10000
     },
     "inputWidgets": {},
     "nuid": "5f83b3f4-16e0-4419-8dd9-4aa8611bcaf9",
     "showTitle": false,
     "title": ""
    }
   },
   "source": [
    "# AirBnb NY Listing Price Prediction: Data Preparation"
   ]
  },
  {
   "cell_type": "code",
   "execution_count": 0,
   "metadata": {
    "application/vnd.databricks.v1+cell": {
     "cellMetadata": {
      "byteLimit": 2048000,
      "rowLimit": 10000
     },
     "inputWidgets": {},
     "nuid": "b8971ed1-3894-4b8d-b8c9-b2b6e8bc8d11",
     "showTitle": false,
     "title": ""
    }
   },
   "outputs": [],
   "source": [
    "import pandas as pd\n",
    "import os\n",
    "from pyspark.sql.functions import *"
   ]
  },
  {
   "cell_type": "markdown",
   "metadata": {
    "application/vnd.databricks.v1+cell": {
     "cellMetadata": {
      "byteLimit": 2048000,
      "rowLimit": 10000
     },
     "inputWidgets": {},
     "nuid": "4cd14fdd-baeb-4fcf-86f4-a469eb4389ac",
     "showTitle": false,
     "title": ""
    }
   },
   "source": [
    "### Catalog, Schema Creation"
   ]
  },
  {
   "cell_type": "code",
   "execution_count": 0,
   "metadata": {
    "application/vnd.databricks.v1+cell": {
     "cellMetadata": {
      "byteLimit": 2048000,
      "rowLimit": 10000
     },
     "inputWidgets": {},
     "nuid": "0900a1ed-ed9d-4e43-82ca-e5680c982f19",
     "showTitle": false,
     "title": ""
    }
   },
   "outputs": [],
   "source": [
    "#catalog_ = f\"price_prediction\"\n",
    "#schema_ = f\"ny_listing\"\n",
    "catalog_ = os.getenv('CATALOG_NAME')\n",
    "schema_ = os.getenv('SCHEMA_NAME')"
   ]
  },
  {
   "cell_type": "code",
   "execution_count": 0,
   "metadata": {
    "application/vnd.databricks.v1+cell": {
     "cellMetadata": {
      "byteLimit": 2048000,
      "rowLimit": 10000
     },
     "inputWidgets": {},
     "nuid": "9b1632b2-34eb-43a3-b332-5e129a2e80cf",
     "showTitle": false,
     "title": ""
    }
   },
   "outputs": [],
   "source": [
    "#spark.sql(\"CREATE CATALOG IF NOT EXISTS \"+catalog_)\n",
    "#spark.sql(\"CREATE SCHEMA IF NOT EXISTS \"+catalog_+\".\"+schema_)"
   ]
  },
  {
   "cell_type": "code",
   "execution_count": 0,
   "metadata": {
    "application/vnd.databricks.v1+cell": {
     "cellMetadata": {
      "byteLimit": 2048000,
      "rowLimit": 10000
     },
     "inputWidgets": {},
     "nuid": "c6fcbe52-e74b-4fad-bf7e-593e253c3425",
     "showTitle": false,
     "title": ""
    }
   },
   "outputs": [],
   "source": [
    "spark.sql(\"USE CATALOG \"+catalog_)\n",
    "spark.sql(\"USE SCHEMA \"+schema_)"
   ]
  },
  {
   "cell_type": "markdown",
   "metadata": {
    "application/vnd.databricks.v1+cell": {
     "cellMetadata": {
      "byteLimit": 2048000,
      "rowLimit": 10000
     },
     "inputWidgets": {},
     "nuid": "9b07fbe8-2f88-4633-8efa-c0c4c41969af",
     "showTitle": false,
     "title": ""
    }
   },
   "source": [
    "### Data Ingestion from Volume [Bronze]"
   ]
  },
  {
   "cell_type": "code",
   "execution_count": 0,
   "metadata": {
    "application/vnd.databricks.v1+cell": {
     "cellMetadata": {
      "byteLimit": 2048000,
      "rowLimit": 10000
     },
     "inputWidgets": {},
     "nuid": "6537957e-6e8b-4f0d-ba2f-a9e9fd9a83c9",
     "showTitle": false,
     "title": ""
    }
   },
   "outputs": [],
   "source": [
    "path_ = f\"dbfs:/Volumes/\"+catalog_+\"/\"+schema_+\"/ny_listing/NY_Listing_cleaned.csv\"\n",
    "bronze_ = (spark.\n",
    "           read.\n",
    "           option(\"header\", True).\n",
    "           #option(\"delimiter\", \",\").\n",
    "           option(\"encoding\", \"utf-8\").\n",
    "           csv(path_).\n",
    "           createOrReplaceTempView(\"bronze_v\"))\n",
    "\n",
    "display(spark.sql(\"SELECT * FROM bronze_v LIMIT 10;\"))\n"
   ]
  },
  {
   "cell_type": "code",
   "execution_count": 0,
   "metadata": {
    "application/vnd.databricks.v1+cell": {
     "cellMetadata": {
      "byteLimit": 2048000,
      "implicitDf": true,
      "rowLimit": 10000
     },
     "inputWidgets": {},
     "nuid": "6608e236-8ae9-437d-8d76-fdbe943bc042",
     "showTitle": false,
     "title": ""
    }
   },
   "outputs": [],
   "source": [
    "%sql\n",
    "DROP TABLE IF EXISTS bronze_data;\n",
    "CREATE TABLE bronze_data AS\n",
    "  SELECT id, NAME as name, `host id` as host_id, host_identity_verified, `host name` as host_name, `neighbourhood group` as neighbourhood_group\n",
    "    ,neighbourhood, lat, long, country,`country code` as country_code, instant_bookable, cancellation_policy, `room type` as room_type,`Construction year` as construction_year, price, `service fee` as service_fee, `minimum nights` as minimum_nights, `number of reviews` as number_of_reviews, `last review` as last_review, `reviews per month` as reviews_per_month, `review rate number` as review_rate_number,`calculated host listings count` as calculated_host_listings_count, `availability 365` as availability_365, house_rules, license\n",
    "  FROM bronze_v;"
   ]
  },
  {
   "cell_type": "markdown",
   "metadata": {
    "application/vnd.databricks.v1+cell": {
     "cellMetadata": {
      "byteLimit": 2048000,
      "rowLimit": 10000
     },
     "inputWidgets": {},
     "nuid": "d72705c0-a569-4c31-b981-5306525ba4e0",
     "showTitle": false,
     "title": ""
    }
   },
   "source": [
    "### Data Cleaning [Silver]"
   ]
  },
  {
   "cell_type": "markdown",
   "metadata": {
    "application/vnd.databricks.v1+cell": {
     "cellMetadata": {
      "byteLimit": 2048000,
      "rowLimit": 10000
     },
     "inputWidgets": {},
     "nuid": "5a7ef873-c186-4979-b293-c6be48a8785a",
     "showTitle": false,
     "title": ""
    }
   },
   "source": [
    "Cleaning steps required:\n",
    "* Remove duplicates\n",
    "* Remove invalid characters from price column (e.g., $ ,)\n",
    "* Remove invalid availabilities (e.g., 0 or >365)"
   ]
  },
  {
   "cell_type": "markdown",
   "metadata": {
    "application/vnd.databricks.v1+cell": {
     "cellMetadata": {
      "byteLimit": 2048000,
      "rowLimit": 10000
     },
     "inputWidgets": {},
     "nuid": "2ed29b19-7a6b-4457-b47f-df2207ba71c2",
     "showTitle": false,
     "title": ""
    }
   },
   "source": [
    "#### 1,2-Remove Duplicates & Convert Column Formats"
   ]
  },
  {
   "cell_type": "code",
   "execution_count": 0,
   "metadata": {
    "application/vnd.databricks.v1+cell": {
     "cellMetadata": {
      "byteLimit": 2048000,
      "implicitDf": true,
      "rowLimit": 10000
     },
     "inputWidgets": {},
     "nuid": "2b70a4dc-e126-4f8b-8196-aefc673bc634",
     "showTitle": false,
     "title": ""
    }
   },
   "outputs": [],
   "source": [
    "%sql\n",
    "-- Duplicates\n",
    "with d0 (\n",
    "select distinct * from bronze_data)\n",
    "select \"Tot Records\" as count, count(*) value_ from bronze_data\n",
    "  union select \"Unique Records\" as count, count(*) value_ from d0;"
   ]
  },
  {
   "cell_type": "code",
   "execution_count": 0,
   "metadata": {
    "application/vnd.databricks.v1+cell": {
     "cellMetadata": {
      "byteLimit": 2048000,
      "implicitDf": true,
      "rowLimit": 10000
     },
     "inputWidgets": {},
     "nuid": "fbfef91f-0dc3-43b1-bbbd-e360a72f2728",
     "showTitle": false,
     "title": ""
    }
   },
   "outputs": [],
   "source": [
    "%sql\n",
    "DROP TABLE IF EXISTS silver_data;\n",
    "CREATE TABLE silver_data AS\n",
    "with d0 as (\n",
    "  -- Remove duplicates and initial cleaning\n",
    "  select distinct *\n",
    "  from bronze_data\n",
    "  where (host_identity_verified in ('verified', 'unconfirmed') or host_identity_verified is null) \n",
    "  and availability_365 is not null\n",
    "  and id not in (' Laundry in building  8 mints from A C trains')\n",
    "  and construction_year is not null\n",
    "  and minimum_nights is not null and minimum_nights not like '$%'\n",
    "  and number_of_reviews is not null and number_of_reviews not like '$%'\n",
    "  and review_rate_number is not null and review_rate_number not like '$%' and review_rate_number not like '%/%'\n",
    "  and calculated_host_listings_count is not null and calculated_host_listings_count not like '%.%'\n",
    "  -- Removing a few problematic data\n",
    "), d1 as (\n",
    "  -- Clean up some fields\n",
    "  select id,\t`name`,\thost_id,\thost_identity_verified,\thost_name\n",
    "  ,case when neighbourhood_group = 'brookln' then 'Brooklyn' when neighbourhood_group = 'manhatan' then 'Manhattan' else neighbourhood_group end as neighbourhood_group\n",
    "  ,\tneighbourhood,\tlat,\tlong,\tcountry,\tcountry_code, instant_bookable, cancellation_policy, room_type, construction_year, price, service_fee\n",
    "  ,cast(case when abs(minimum_nights)>365 then 365 else abs(minimum_nights) end as int) as minimum_nights\n",
    "  , number_of_reviews, last_review,\treviews_per_month,\treview_rate_number, calculated_host_listings_count\n",
    "  ,cast(case when abs(availability_365)>365 then 365 else abs(availability_365) end as int) as availability_365\n",
    "  , house_rules, license\n",
    "  from d0\n",
    ")\n",
    "-- Clean and convert numerical fields\n",
    "  select\n",
    "    cast(id as int) id\n",
    "    ,`name`\n",
    "    ,cast(trim(host_id) as int) host_id\n",
    "    ,host_identity_verified, host_name, neighbourhood_group, neighbourhood\n",
    "    ,cast(lat as float) lat\n",
    "    ,cast(long as float) long\n",
    "    ,country,\tcountry_code, instant_bookable, cancellation_policy, room_type\n",
    "    ,cast(construction_year as int) construction_year\n",
    "    ,cast(minimum_nights as int) minimum_nights\n",
    "    ,cast(number_of_reviews as int) number_of_reviews\n",
    "    ,to_timestamp(trim(last_review), 'M/d/yyyy') last_review\n",
    "    ,cast(reviews_per_month as float) reviews_per_month\n",
    "    ,cast(review_rate_number as int) review_rate_number\n",
    "    ,cast(calculated_host_listings_count as int) calculated_host_listings_count\n",
    "    ,cast(availability_365 as int) availability_365\n",
    "    ,house_rules, license\n",
    "    ,cast(\n",
    "      case when price like '%$%' then replace(price, '$', '')\n",
    "            when price like '%,%' then replace(price, ',', '')\n",
    "            else price end\n",
    "      as float) price\n",
    "    ,cast(\n",
    "      case when service_fee like '%$%' then replace(service_fee, '$', '')\n",
    "            when service_fee like '%,%' then replace(service_fee, ',', '')\n",
    "            else service_fee end\n",
    "      as float) service_fee      \n",
    "from d1;"
   ]
  },
  {
   "cell_type": "markdown",
   "metadata": {
    "application/vnd.databricks.v1+cell": {
     "cellMetadata": {
      "byteLimit": 2048000,
      "rowLimit": 10000
     },
     "inputWidgets": {},
     "nuid": "9bd8ffee-8a69-49eb-83ec-a86a7acb41fc",
     "showTitle": false,
     "title": ""
    }
   },
   "source": [
    "#### (2-Convert Column Formats)"
   ]
  },
  {
   "cell_type": "code",
   "execution_count": 0,
   "metadata": {
    "application/vnd.databricks.v1+cell": {
     "cellMetadata": {
      "byteLimit": 2048000,
      "rowLimit": 10000
     },
     "inputWidgets": {},
     "nuid": "d73addee-21ce-42de-9a6f-9ff8aeb3a1db",
     "showTitle": false,
     "title": ""
    }
   },
   "outputs": [],
   "source": [
    "#silver_step1 = spark.sql(\"SELECT * from silver_data_1\").toPandas()"
   ]
  },
  {
   "cell_type": "code",
   "execution_count": 0,
   "metadata": {
    "application/vnd.databricks.v1+cell": {
     "cellMetadata": {
      "byteLimit": 2048000,
      "rowLimit": 10000
     },
     "inputWidgets": {},
     "nuid": "c57db2b0-e51e-41db-944b-d34b8775aa5d",
     "showTitle": false,
     "title": ""
    }
   },
   "outputs": [],
   "source": [
    "# Int columns\n",
    "'''\n",
    "silver_step1['id'] = silver_step1['id'].astype(int)\n",
    "silver_step1['host_id'] = silver_step1['host_id'].astype(int)\n",
    "silver_step1['construction_year'] = silver_step1['construction_year'].astype(int)\n",
    "silver_step1['minimum_nights'] = silver_step1['minimum_nights'].astype(int)\n",
    "silver_step1['number_of_reviews'] = silver_step1['number_of_reviews'].astype(int)\n",
    "silver_step1['review_rate_number'] = silver_step1['review_rate_number'].astype(int)\n",
    "silver_step1['calculated_host_listings_count'] = silver_step1['calculated_host_listings_count'].astype(int)\n",
    "silver_step1['availability_365'] = silver_step1['availability_365'].astype(int)\n",
    "\n",
    "#float\n",
    "silver_step1['lat'] = silver_step1['lat'].astype(float)\n",
    "silver_step1['long'] = silver_step1['long'].astype(float)\n",
    "silver_step1['reviews_per_month'] = silver_step1['reviews_per_month'].astype(float)\n",
    "\n",
    "#date\n",
    "silver_step1['last_review'] = pd.to_datetime(silver_step1['last_review'])\n",
    "\n",
    "# Cleaning and float\n",
    "silver_step1['service_fee'] = silver_step1['service_fee'].str.replace('$', '')\n",
    "silver_step1['service_fee'] = silver_step1['service_fee'].str.replace(',', '')\n",
    "silver_step1['service_fee'] = silver_step1['service_fee'].astype(float)\n",
    "\n",
    "silver_step1['price'] = silver_step1['price'].str.replace('$', '')\n",
    "silver_step1['price'] = silver_step1['price'].str.replace(',', '')\n",
    "silver_step1['price'] = silver_step1['price'].astype(float)\n",
    "'''"
   ]
  },
  {
   "cell_type": "code",
   "execution_count": 0,
   "metadata": {
    "application/vnd.databricks.v1+cell": {
     "cellMetadata": {
      "byteLimit": 2048000,
      "rowLimit": 10000
     },
     "inputWidgets": {},
     "nuid": "091120b2-11c3-41bb-a1c3-90be85531a27",
     "showTitle": false,
     "title": ""
    }
   },
   "outputs": [],
   "source": [
    "# Save into silver table\n",
    "#silver_step1 = spark.createDataFrame(silver_step1).createOrReplaceTempView(\"silver_v\")"
   ]
  },
  {
   "cell_type": "code",
   "execution_count": 0,
   "metadata": {
    "application/vnd.databricks.v1+cell": {
     "cellMetadata": {
      "byteLimit": 2048000,
      "implicitDf": true,
      "rowLimit": 10000
     },
     "inputWidgets": {},
     "nuid": "e12588b9-7501-4eba-a5c1-57277ca80c95",
     "showTitle": false,
     "title": ""
    }
   },
   "outputs": [],
   "source": [
    "'''\n",
    "%sql\n",
    "DROP TABLE IF EXISTS silver_data;\n",
    "CREATE TABLE silver_data AS\n",
    "  select * from silver_v;\n",
    "'''"
   ]
  },
  {
   "cell_type": "markdown",
   "metadata": {
    "application/vnd.databricks.v1+cell": {
     "cellMetadata": {
      "byteLimit": 2048000,
      "rowLimit": 10000
     },
     "inputWidgets": {},
     "nuid": "c0e2d29c-a1ee-434e-aa14-6aeb80dabb62",
     "showTitle": false,
     "title": ""
    }
   },
   "source": [
    "### [Gold data] Finalize data preparation for ML"
   ]
  },
  {
   "cell_type": "markdown",
   "metadata": {
    "application/vnd.databricks.v1+cell": {
     "cellMetadata": {
      "byteLimit": 2048000,
      "rowLimit": 10000
     },
     "inputWidgets": {},
     "nuid": "8cb218ad-2b76-4e4a-b20e-85813eeb7311",
     "showTitle": false,
     "title": ""
    }
   },
   "source": [
    "Steps required:\n",
    "\n",
    "* Remove uninformative columns (same value on all rows or different values on every row, columns with >50% Null values)\n",
    "* Remove NAs\n",
    "* Encode required categorical columns\n"
   ]
  },
  {
   "cell_type": "markdown",
   "metadata": {
    "application/vnd.databricks.v1+cell": {
     "cellMetadata": {
      "byteLimit": 2048000,
      "rowLimit": 10000
     },
     "inputWidgets": {},
     "nuid": "00d44ab7-7dc8-4edf-ab2f-bdb6dd251840",
     "showTitle": false,
     "title": ""
    }
   },
   "source": [
    "#### 1-Remove Uninformative Columns & NAs"
   ]
  },
  {
   "cell_type": "code",
   "execution_count": 0,
   "metadata": {
    "application/vnd.databricks.v1+cell": {
     "cellMetadata": {
      "byteLimit": 2048000,
      "rowLimit": 10000
     },
     "inputWidgets": {},
     "nuid": "a8116e47-e91d-4a32-90b1-6083cee2fb95",
     "showTitle": false,
     "title": ""
    }
   },
   "outputs": [],
   "source": [
    "gold1_sdf = spark.sql(\"SELECT * from silver_data\")\n",
    "gold1 = gold1_sdf.toPandas()\n",
    "display(gold1.info())"
   ]
  },
  {
   "cell_type": "code",
   "execution_count": 0,
   "metadata": {
    "application/vnd.databricks.v1+cell": {
     "cellMetadata": {
      "byteLimit": 2048000,
      "rowLimit": 10000
     },
     "inputWidgets": {},
     "nuid": "9605ff45-7a27-4bb6-8179-36dbe43c6068",
     "showTitle": false,
     "title": ""
    }
   },
   "outputs": [],
   "source": [
    "gold1.describe(percentiles=[.25, .5, .75])"
   ]
  },
  {
   "cell_type": "code",
   "execution_count": 0,
   "metadata": {
    "application/vnd.databricks.v1+cell": {
     "cellMetadata": {
      "byteLimit": 2048000,
      "rowLimit": 10000
     },
     "inputWidgets": {},
     "nuid": "e213d14d-37c2-4f98-99dd-88c2c6064439",
     "showTitle": false,
     "title": ""
    }
   },
   "outputs": [],
   "source": [
    "# Drop columns\n",
    "to_drop = ['name','host_id','house_rules','license','host_name', ## Too many unique values\n",
    "           'last_review', 'reviews_per_month',  ## Too many null values\n",
    "           'country','country_code', ## Too few unique values\n",
    "           'service_fee' ## Unlikely this info is available when we predict the price\n",
    "           ]\n",
    "for c in to_drop:\n",
    "  gold1_sdf = gold1_sdf.drop(c)\n",
    "\n",
    "gold_step1 = gold1_sdf.toPandas()\n",
    "display(gold_step1.info())"
   ]
  },
  {
   "cell_type": "code",
   "execution_count": 0,
   "metadata": {
    "application/vnd.databricks.v1+cell": {
     "cellMetadata": {
      "byteLimit": 2048000,
      "rowLimit": 10000
     },
     "inputWidgets": {},
     "nuid": "37e5d104-a08c-41c9-8a76-827caf3148e8",
     "showTitle": false,
     "title": ""
    }
   },
   "outputs": [],
   "source": [
    "# Drop NAs\n",
    "for c in list(gold1_sdf.columns):\n",
    "  len_pre = gold1_sdf.count()\n",
    "  gold1_sdf = gold1_sdf.dropna(subset=c)\n",
    "  len_post = gold1_sdf.count()\n",
    "  if len_pre>len_post:\n",
    "    print(\":: On col %s, removed %4d NAs\" % (c, len_pre - len_post))"
   ]
  },
  {
   "cell_type": "markdown",
   "metadata": {
    "application/vnd.databricks.v1+cell": {
     "cellMetadata": {
      "byteLimit": 2048000,
      "rowLimit": 10000
     },
     "inputWidgets": {},
     "nuid": "d978d289-6bd2-4714-ac4e-d14466a272a9",
     "showTitle": false,
     "title": ""
    }
   },
   "source": [
    "#### 2-Encode Categorical Columns"
   ]
  },
  {
   "cell_type": "markdown",
   "metadata": {
    "application/vnd.databricks.v1+cell": {
     "cellMetadata": {
      "byteLimit": 2048000,
      "rowLimit": 10000
     },
     "inputWidgets": {},
     "nuid": "6b40cba4-132b-45e4-b104-1322aca7e245",
     "showTitle": false,
     "title": ""
    }
   },
   "source": [
    "Since we will be using tree based algorithms, we will do an **Ordinal Encoding** and also a **One Hot Encoding**."
   ]
  },
  {
   "cell_type": "code",
   "execution_count": 0,
   "metadata": {
    "application/vnd.databricks.v1+cell": {
     "cellMetadata": {
      "byteLimit": 2048000,
      "rowLimit": 10000
     },
     "inputWidgets": {},
     "nuid": "25c24336-2d80-4ea0-b58d-6f50403db560",
     "showTitle": false,
     "title": ""
    }
   },
   "outputs": [],
   "source": [
    "gold1_sdf_bkp = gold1_sdf.select(\"*\")\n",
    "display(gold1_sdf_bkp.head(1))"
   ]
  },
  {
   "cell_type": "code",
   "execution_count": 0,
   "metadata": {
    "application/vnd.databricks.v1+cell": {
     "cellMetadata": {
      "byteLimit": 2048000,
      "rowLimit": 10000
     },
     "inputWidgets": {},
     "nuid": "088f05e6-8687-42a7-bfc1-d5ee576c983d",
     "showTitle": false,
     "title": ""
    }
   },
   "outputs": [],
   "source": [
    "gold_step2 = gold1_sdf.toPandas()\n",
    "col_to_exclude = ['id']\n",
    "col_ordinal_encoding = {}\n",
    "\n",
    "## Check values per column\n",
    "for col_ in gold_step2.columns:\n",
    "  if gold_step2[col_].dtype == 'object' and col_ not in col_to_exclude:\n",
    "    gold_groupby = gold_step2.groupby(col_).agg(records=('price','count'), avg_price=('price', 'mean'), std_price=('price', 'std'))\n",
    "    gold_groupby.reset_index(inplace=True)\n",
    "    print(\":: %s has %2d unique values\" % (col_, len(gold_groupby)))\n",
    "    gold_groupby.sort_values(by=col_, inplace=True)\n",
    "    display(gold_groupby)\n",
    "    ## Encode unique values\n",
    "    values_ = list(gold_groupby[col_])\n",
    "    col_ordinal_encoding[col_] = {categ_value: str(id+1) for id, categ_value in enumerate(values_)} # Make str to avoid mixed type replacement errors\n",
    "    print(\"\\n\")"
   ]
  },
  {
   "cell_type": "markdown",
   "metadata": {
    "application/vnd.databricks.v1+cell": {
     "cellMetadata": {
      "byteLimit": 2048000,
      "rowLimit": 10000
     },
     "inputWidgets": {},
     "nuid": "0e2e25ca-c382-4a67-8fc1-ec5e6ff983e6",
     "showTitle": false,
     "title": ""
    }
   },
   "source": [
    "##### 2.1 Ordinal Encoding"
   ]
  },
  {
   "cell_type": "code",
   "execution_count": 0,
   "metadata": {
    "application/vnd.databricks.v1+cell": {
     "cellMetadata": {
      "byteLimit": 2048000,
      "rowLimit": 10000
     },
     "inputWidgets": {},
     "nuid": "3ad10f4c-5152-4000-a0bf-600957c37c69",
     "showTitle": false,
     "title": ""
    }
   },
   "outputs": [],
   "source": [
    "col_ordinal_encoding"
   ]
  },
  {
   "cell_type": "code",
   "execution_count": 0,
   "metadata": {
    "application/vnd.databricks.v1+cell": {
     "cellMetadata": {
      "byteLimit": 2048000,
      "rowLimit": 10000
     },
     "inputWidgets": {},
     "nuid": "54107a02-4d1c-4304-80fb-c4a6821c098a",
     "showTitle": false,
     "title": ""
    }
   },
   "outputs": [],
   "source": [
    "## Create encoded columns on the dataframe\n",
    "for k, encod_dict in col_ordinal_encoding.items():\n",
    "  gold1_sdf = (\n",
    "    gold1_sdf\n",
    "    .withColumn(f\"{k}_encoded\", col(k))\n",
    "    .replace(to_replace=encod_dict, subset=[k+\"_encoded\"]) # Map dictionary to a column\n",
    "    .withColumn(k+\"_encoded\", col(k+\"_encoded\").cast('float'))\n",
    "  )"
   ]
  },
  {
   "cell_type": "code",
   "execution_count": 0,
   "metadata": {
    "application/vnd.databricks.v1+cell": {
     "cellMetadata": {
      "byteLimit": 2048000,
      "rowLimit": 10000
     },
     "inputWidgets": {},
     "nuid": "f8ffbeee-6961-4846-baf6-8fb28547c777",
     "showTitle": false,
     "title": ""
    }
   },
   "outputs": [],
   "source": [
    "## Persist encoded column info\n",
    "gold1_sdf.createOrReplaceTempView(\"gold_v\")"
   ]
  },
  {
   "cell_type": "code",
   "execution_count": 0,
   "metadata": {
    "application/vnd.databricks.v1+cell": {
     "cellMetadata": {
      "byteLimit": 2048000,
      "implicitDf": true,
      "rowLimit": 10000
     },
     "inputWidgets": {},
     "nuid": "54d62dd9-5a91-4ed4-91e6-a5e6bf515424",
     "showTitle": false,
     "title": ""
    }
   },
   "outputs": [],
   "source": [
    "%sql\n",
    "DROP TABLE IF EXISTS gold_data;\n",
    "CREATE TABLE gold_data AS\n",
    "Select \n",
    "  id\n",
    "  ,cast(host_identity_verified_encoded as float) as host_identity_verified_encoded\n",
    "  ,cast(neighbourhood_group_encoded as float) as neighbourhood_group_encoded\n",
    "  ,cast(neighbourhood_encoded as float) as neighbourhood_encoded\n",
    "  ,cast(lat as float)\n",
    "  ,cast(long as float)\n",
    "  ,cast(instant_bookable_encoded as float) as instant_bookable_encoded\n",
    "  ,cast(cancellation_policy_encoded as float) as cancellation_policy_encoded\n",
    "  ,cast(room_type_encoded as float) as room_type_encoded\n",
    "  ,cast(construction_year as float) construction_year\n",
    "  ,cast(minimum_nights as float) minimum_nights\n",
    "  ,cast(number_of_reviews as float) number_of_reviews\n",
    "  ,cast(review_rate_number as float) review_rate_number\n",
    "  ,cast(calculated_host_listings_count as float) calculated_host_listings_count\n",
    "  ,cast(availability_365 as float) availability_365\n",
    "  ,cast(price as float) price\n",
    "from gold_v;"
   ]
  },
  {
   "cell_type": "code",
   "execution_count": 0,
   "metadata": {
    "application/vnd.databricks.v1+cell": {
     "cellMetadata": {
      "byteLimit": 2048000,
      "implicitDf": true,
      "rowLimit": 10000
     },
     "inputWidgets": {},
     "nuid": "86ef7145-ec75-45f7-997b-9274e77b28e3",
     "showTitle": false,
     "title": ""
    }
   },
   "outputs": [],
   "source": [
    "%sql\n",
    "SELECT * from gold_data limit 10;"
   ]
  },
  {
   "cell_type": "markdown",
   "metadata": {
    "application/vnd.databricks.v1+cell": {
     "cellMetadata": {
      "byteLimit": 2048000,
      "rowLimit": 10000
     },
     "inputWidgets": {},
     "nuid": "bc79aef5-390a-4f68-b4f5-d8da093f0742",
     "showTitle": false,
     "title": ""
    }
   },
   "source": [
    "##### 2.2-OneHotEncoding"
   ]
  },
  {
   "cell_type": "code",
   "execution_count": 0,
   "metadata": {
    "application/vnd.databricks.v1+cell": {
     "cellMetadata": {
      "byteLimit": 2048000,
      "rowLimit": 10000
     },
     "inputWidgets": {},
     "nuid": "a024b0bd-5d24-4172-80d9-ec49f6455e01",
     "showTitle": false,
     "title": ""
    }
   },
   "outputs": [],
   "source": [
    "gold1_sdf_bkp.createOrReplaceTempView(\"gold_v\")"
   ]
  },
  {
   "cell_type": "code",
   "execution_count": 0,
   "metadata": {
    "application/vnd.databricks.v1+cell": {
     "cellMetadata": {
      "byteLimit": 2048000,
      "implicitDf": true,
      "rowLimit": 10000
     },
     "inputWidgets": {},
     "nuid": "108a281b-ba7c-40d5-a050-2e7ff3757307",
     "showTitle": false,
     "title": ""
    }
   },
   "outputs": [],
   "source": [
    "%sql\n",
    "-- Approach used for the one hot encoding\n",
    "DROP TABLE IF EXISTS gold_data_ohe;\n",
    "CREATE TABLE gold_data_ohe AS\n",
    "Select \n",
    "  id\n",
    "  ,cast(case when host_identity_verified = 'verified' then 1 else 0 end as float) as is_host_identity_verified\n",
    "  /* Neighborhood groups = Bronx, Brooklyn, Manhattan, Queens, Staten Island */\n",
    "  ,cast(case when neighbourhood_group = 'Bronx' then 1 else 0 end as float) is_neighbourhood_group_Bronx\n",
    "  ,cast(case when neighbourhood_group = 'Brooklyn' then 1 else 0 end as float) is_neighbourhood_group_Brooklyn\n",
    "  ,cast(case when neighbourhood_group = 'Manhattan' then 1 else 0 end as float) is_neighbourhood_group_Manhattan\n",
    "  ,cast(case when neighbourhood_group = 'Queens' then 1 else 0 end as float) is_neighbourhood_group_Queens\n",
    "  /* dropping neighbourhood column */\n",
    "  ,cast(lat as float)\n",
    "  ,cast(long as float)\n",
    "  ,cast(case when instant_bookable = 'TRUE' then 1 else 0 end as float) is_instant_bookable\n",
    "  /* cancellation_policy = flexible, moderate, strict */\n",
    "  ,cast(case when cancellation_policy = 'flexible' then 1 else 0 end as float) is_cancellation_policy_flexible\n",
    "  ,cast(case when cancellation_policy = 'strict' then 1 else 0 end as float) is_cancellation_policy_strict\n",
    "  /* room_type = Entire home/apt, Hotel room, Private room, Shared room */\n",
    "  ,cast(case when room_type = 'Entire home/apt' then 1 else 0 end as float) is_room_type_Entire\n",
    "  ,cast(case when room_type = 'Private room' then 1 else 0 end as float) is_room_type_Privateroom\n",
    "  ,cast(case when room_type = 'Shared room' then 1 else 0 end as float) is_room_type_Sharedroom\n",
    "  ,cast(construction_year as float) construction_year\n",
    "  ,cast(minimum_nights as float) minimum_nights\n",
    "  ,cast(number_of_reviews as float) number_of_reviews\n",
    "  ,cast(review_rate_number as float) review_rate_number\n",
    "  ,cast(calculated_host_listings_count as float) calculated_host_listings_count\n",
    "  ,cast(availability_365 as float) availability_365\n",
    "  ,cast(price as float) price\n",
    "from gold_v;"
   ]
  },
  {
   "cell_type": "markdown",
   "metadata": {
    "application/vnd.databricks.v1+cell": {
     "cellMetadata": {
      "byteLimit": 2048000,
      "rowLimit": 10000
     },
     "inputWidgets": {},
     "nuid": "76454d03-daad-43d6-a0a3-74ad32e2197b",
     "showTitle": false,
     "title": ""
    }
   },
   "source": [
    "### Final counts"
   ]
  },
  {
   "cell_type": "code",
   "execution_count": 0,
   "metadata": {
    "application/vnd.databricks.v1+cell": {
     "cellMetadata": {
      "byteLimit": 2048000,
      "rowLimit": 10000
     },
     "inputWidgets": {},
     "nuid": "578781a5-d8e1-45c9-9d6c-7f42de35a1b6",
     "showTitle": false,
     "title": ""
    }
   },
   "outputs": [],
   "source": [
    "display(spark.sql(\"select count(*) from bronze_data;\"))\n",
    "display(spark.sql(\"select count(*) from silver_data;\"))\n",
    "display(spark.sql(\"select count(*) from gold_data;\"))\n",
    "display(spark.sql(\"select count(*) from gold_data_ohe;\"))"
   ]
  },
  {
   "cell_type": "code",
   "execution_count": 0,
   "metadata": {
    "application/vnd.databricks.v1+cell": {
     "cellMetadata": {},
     "inputWidgets": {},
     "nuid": "2564cf46-51be-43c4-a56c-1362dfc68a4d",
     "showTitle": false,
     "title": ""
    }
   },
   "outputs": [],
   "source": []
  }
 ],
 "metadata": {
  "application/vnd.databricks.v1+notebook": {
   "dashboards": [],
   "environmentMetadata": {
    "base_environment": "",
    "client": "1"
   },
   "language": "python",
   "notebookMetadata": {
    "mostRecentlyExecutedCommandWithImplicitDF": {
     "commandId": 888983575726049,
     "dataframes": [
      "_sqldf"
     ]
    },
    "pythonIndentUnit": 2
   },
   "notebookName": "ny_01_DataPreparation",
   "widgets": {}
  }
 },
 "nbformat": 4,
 "nbformat_minor": 0
}
