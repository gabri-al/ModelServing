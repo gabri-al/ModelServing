{
 "cells": [
  {
   "cell_type": "markdown",
   "metadata": {
    "application/vnd.databricks.v1+cell": {
     "cellMetadata": {
      "byteLimit": 2048000,
      "rowLimit": 10000
     },
     "inputWidgets": {},
     "nuid": "5f83b3f4-16e0-4419-8dd9-4aa8611bcaf9",
     "showTitle": false,
     "title": ""
    }
   },
   "source": [
    "# AirBnb NY Listing Price Prediction: ML Tuning"
   ]
  },
  {
   "cell_type": "markdown",
   "metadata": {
    "application/vnd.databricks.v1+cell": {
     "cellMetadata": {},
     "inputWidgets": {},
     "nuid": "ef0ade60-2cf4-45a5-86c5-3e49dc53f3b3",
     "showTitle": false,
     "title": ""
    }
   },
   "source": [
    "\n",
    "Distributed hyperparameter tuning:\n",
    "* Fugue Tune [link](https://fugue-tutorials.readthedocs.io/tutorials/tune/index.html), youtube [demo](https://www.youtube.com/watch?v=_GBjqskD8Qk&t=1s)\n",
    "* Official Github repo [link](https://github.com/fugue-project/tune)\n"
   ]
  },
  {
   "cell_type": "code",
   "execution_count": 0,
   "metadata": {
    "application/vnd.databricks.v1+cell": {
     "cellMetadata": {
      "byteLimit": 2048000,
      "rowLimit": 10000
     },
     "inputWidgets": {},
     "nuid": "3db39cfa-8389-4202-b42b-6abdc7dfd06f",
     "showTitle": false,
     "title": ""
    }
   },
   "outputs": [],
   "source": [
    "%pip install mlflow\n",
    "%pip install scikit-learn==1.4.1.post1\n",
    "%pip install fugue\n",
    "%pip install tune\n",
    "%pip install hyperopt\n",
    "%pip install optuna"
   ]
  },
  {
   "cell_type": "code",
   "execution_count": 0,
   "metadata": {
    "application/vnd.databricks.v1+cell": {
     "cellMetadata": {},
     "inputWidgets": {},
     "nuid": "708353a4-7ded-4ee3-a0b1-053fa849580c",
     "showTitle": false,
     "title": ""
    }
   },
   "outputs": [],
   "source": [
    "#dbutils.library.restartPython()"
   ]
  },
  {
   "cell_type": "code",
   "execution_count": 0,
   "metadata": {
    "application/vnd.databricks.v1+cell": {
     "cellMetadata": {
      "byteLimit": 2048000,
      "rowLimit": 10000
     },
     "inputWidgets": {},
     "nuid": "b8971ed1-3894-4b8d-b8c9-b2b6e8bc8d11",
     "showTitle": false,
     "title": ""
    }
   },
   "outputs": [],
   "source": [
    "import pandas as pd\n",
    "import numpy as np\n",
    "import mlflow\n",
    "\n",
    "from typing import Any\n",
    "from sklearn.metrics import make_scorer, mean_absolute_percentage_error\n",
    "from sklearn.model_selection import cross_val_score\n",
    "from tune import Space, Rand, RandInt, Grid, suggest_for_noniterative_objective\n",
    "from tune_hyperopt import HyperoptLocalOptimizer\n",
    "from tune_optuna import  OptunaLocalOptimizer\n",
    "\n",
    "from sklearn.ensemble import RandomForestRegressor, GradientBoostingRegressor"
   ]
  },
  {
   "cell_type": "markdown",
   "metadata": {
    "application/vnd.databricks.v1+cell": {
     "cellMetadata": {
      "byteLimit": 2048000,
      "rowLimit": 10000
     },
     "inputWidgets": {},
     "nuid": "9b07fbe8-2f88-4633-8efa-c0c4c41969af",
     "showTitle": false,
     "title": ""
    }
   },
   "source": [
    "### Split into Train & Test"
   ]
  },
  {
   "cell_type": "code",
   "execution_count": 0,
   "metadata": {
    "application/vnd.databricks.v1+cell": {
     "cellMetadata": {
      "byteLimit": 2048000,
      "rowLimit": 10000
     },
     "inputWidgets": {},
     "nuid": "c6fcbe52-e74b-4fad-bf7e-593e253c3425",
     "showTitle": false,
     "title": ""
    }
   },
   "outputs": [],
   "source": [
    "catalog_ = f\"price_prediction\"\n",
    "schema_ = f\"ny_listing\"\n",
    "spark.sql(\"USE CATALOG \"+catalog_)\n",
    "spark.sql(\"USE SCHEMA \"+schema_)"
   ]
  },
  {
   "cell_type": "code",
   "execution_count": 0,
   "metadata": {
    "application/vnd.databricks.v1+cell": {
     "cellMetadata": {
      "byteLimit": 2048000,
      "rowLimit": 10000
     },
     "inputWidgets": {},
     "nuid": "4e6f2c4a-4646-42c7-89e9-998af63af3a5",
     "showTitle": false,
     "title": ""
    }
   },
   "outputs": [],
   "source": [
    "SEED_ = 142\n",
    "\n",
    "gold_data = spark.sql(\"SELECT * from gold_data\")\n",
    "train_df, test_df = gold_data.randomSplit([.85, .15], seed = SEED_)\n",
    "train_df = train_df.toPandas()\n",
    "test_df = test_df.toPandas()\n",
    "\n",
    "display(train_df.head(2))\n",
    "#display(test_df.head(2))"
   ]
  },
  {
   "cell_type": "code",
   "execution_count": 0,
   "metadata": {
    "application/vnd.databricks.v1+cell": {
     "cellMetadata": {
      "byteLimit": 2048000,
      "rowLimit": 10000
     },
     "inputWidgets": {},
     "nuid": "7179847c-0bea-480b-959e-931e131eb31a",
     "showTitle": false,
     "title": ""
    }
   },
   "outputs": [],
   "source": [
    "# Convert data into np arrays\n",
    "xTrain = train_df.iloc[:, 1:-1].to_numpy()\n",
    "yTrain = train_df.loc[:, 'price'].to_numpy()\n",
    "\n",
    "xTest = test_df.iloc[:, 1:-1].to_numpy()\n",
    "yTest = test_df.loc[:, 'price'].to_numpy()"
   ]
  },
  {
   "cell_type": "markdown",
   "metadata": {
    "application/vnd.databricks.v1+cell": {
     "cellMetadata": {},
     "inputWidgets": {},
     "nuid": "f44d9dd1-2c69-4f0c-90b0-d41f47943957",
     "showTitle": false,
     "title": ""
    }
   },
   "source": [
    "### Hyperparameter tuning with Fugue-Tune"
   ]
  },
  {
   "cell_type": "code",
   "execution_count": 0,
   "metadata": {
    "application/vnd.databricks.v1+cell": {
     "cellMetadata": {
      "byteLimit": 2048000,
      "rowLimit": 10000
     },
     "inputWidgets": {},
     "nuid": "8d88f1ee-eb8a-47b3-a2f3-f67b3a2b2b28",
     "showTitle": false,
     "title": ""
    }
   },
   "outputs": [],
   "source": [
    "_mlflow_exp = '/Users/gabriele.albini@databricks.com/ModelServing_mlflow/NY_Price_Listings'"
   ]
  },
  {
   "cell_type": "code",
   "execution_count": 0,
   "metadata": {
    "application/vnd.databricks.v1+cell": {
     "cellMetadata": {
      "byteLimit": 2048000,
      "rowLimit": 10000
     },
     "inputWidgets": {},
     "nuid": "767d1943-fbc1-4eb0-a1c6-8211b81250c1",
     "showTitle": false,
     "title": ""
    }
   },
   "outputs": [],
   "source": [
    "## Define an objective function\n",
    "num_CV = 3\n",
    "x = xTrain\n",
    "y = yTrain\n",
    "\n",
    "def objective(model:Any, **hp) -> float:\n",
    "  model_iter = model(**hp) # leave naming as model due to tune.Space()\n",
    "  scores = cross_val_score(model_iter, x, y, cv = num_CV,\n",
    "                           scoring = make_scorer(mean_absolute_percentage_error)) # MAPE\n",
    "  return scores.mean()"
   ]
  },
  {
   "cell_type": "code",
   "execution_count": 0,
   "metadata": {
    "application/vnd.databricks.v1+cell": {
     "cellMetadata": {
      "byteLimit": 2048000,
      "rowLimit": 10000
     },
     "inputWidgets": {},
     "nuid": "185958a7-8777-4a4a-90b2-0816912bfeac",
     "showTitle": false,
     "title": ""
    }
   },
   "outputs": [],
   "source": [
    "# Train basic models as baseline\n",
    "print(objective(RandomForestRegressor))\n",
    "print(objective(GradientBoostingRegressor))"
   ]
  },
  {
   "cell_type": "code",
   "execution_count": 0,
   "metadata": {
    "application/vnd.databricks.v1+cell": {
     "cellMetadata": {
      "byteLimit": 2048000,
      "rowLimit": 10000
     },
     "inputWidgets": {},
     "nuid": "38006b46-a18a-4df4-9fc8-9d4540f59e60",
     "showTitle": false,
     "title": ""
    }
   },
   "outputs": [],
   "source": [
    "## Define Search spaces\n",
    "## Each grid combination will be trained\n",
    "\n",
    "RFspace1 = Space(\n",
    "  model = RandomForestRegressor\n",
    ")\n",
    "\n",
    "XBGspace1 = Space(\n",
    "  model = GradientBoostingRegressor,\n",
    "  learning_rate = Rand(0.05, 1.6, 0.05)\n",
    ").sample(3, seed = SEED_)\n",
    "\n",
    "space2 = Space(\n",
    "  random_state = SEED_,\n",
    "  max_features = Grid('sqrt', 'log2', None), # Max number of features to consider when looking for the best split\n",
    "  max_depth = Grid(5, 50, None), # Maximum depth of the individual estimators\n",
    "  n_estimators = RandInt(80, 1000, include_high=True) # Nr of trees, Bayesian\n",
    ")\n",
    "\n",
    "space_RF = RFspace1 * space2\n",
    "space_XGB = XBGspace1 * space2\n",
    "\n",
    "print(\"RF tot combinations: %3d\\n\" % len(list(space_RF)))\n",
    "#print(list(space_RF))\n",
    "\n",
    "print(\"XGB tot combinations: %3d\\n\" % len(list(space_XGB)))\n",
    "#print(list(space_XGB))"
   ]
  },
  {
   "cell_type": "code",
   "execution_count": 0,
   "metadata": {
    "application/vnd.databricks.v1+cell": {
     "cellMetadata": {
      "byteLimit": 2048000,
      "rowLimit": 10000
     },
     "inputWidgets": {},
     "nuid": "1bfab2ac-9b05-4cbe-b66c-a624d34d415e",
     "showTitle": false,
     "title": ""
    }
   },
   "outputs": [],
   "source": [
    "## Run hyper parameter search on RF\n",
    "Max_Iter = 10\n",
    "experiment_ = mlflow.set_experiment(_mlflow_exp)\n",
    "with mlflow.start_run(experiment_id=experiment_.experiment_id, run_name=\"RF_FugueTune\") as run:\n",
    "\n",
    "  result_ = suggest_for_noniterative_objective(\n",
    "    objective = objective,\n",
    "    space = space_RF,\n",
    "    local_optimizer = HyperoptLocalOptimizer(max_iter = Max_Iter), # HyperoptLocalOptimizer or OptunaLocalOptimizer\n",
    "    execution_engine = spark,\n",
    "    logger = run)"
   ]
  },
  {
   "cell_type": "code",
   "execution_count": 0,
   "metadata": {
    "application/vnd.databricks.v1+cell": {
     "cellMetadata": {
      "byteLimit": 2048000,
      "rowLimit": 10000
     },
     "inputWidgets": {},
     "nuid": "b7a83039-e775-41e5-aa4b-feb5592ca66e",
     "showTitle": false,
     "title": ""
    }
   },
   "outputs": [],
   "source": [
    "## Run hyper parameter search on XGB\n",
    "Max_Iter = 15\n",
    "experiment_ = mlflow.set_experiment(_mlflow_exp)\n",
    "with mlflow.start_run(experiment_id=experiment_.experiment_id, run_name=\"XGB_FugueTune\") as run:\n",
    "\n",
    "  result_ = suggest_for_noniterative_objective(\n",
    "    objective = objective,\n",
    "    space = space_XGB,\n",
    "    local_optimizer = OptunaLocalOptimizer(max_iter = Max_Iter), # HyperoptLocalOptimizer or OptunaLocalOptimizer\n",
    "    execution_engine = spark,\n",
    "    logger = run)"
   ]
  },
  {
   "cell_type": "code",
   "execution_count": 0,
   "metadata": {
    "application/vnd.databricks.v1+cell": {
     "cellMetadata": {},
     "inputWidgets": {},
     "nuid": "ff5696a7-06be-44ef-81f1-013816fad0b0",
     "showTitle": false,
     "title": ""
    }
   },
   "outputs": [],
   "source": []
  }
 ],
 "metadata": {
  "application/vnd.databricks.v1+notebook": {
   "dashboards": [],
   "environmentMetadata": null,
   "language": "python",
   "notebookMetadata": {
    "mostRecentlyExecutedCommandWithImplicitDF": {
     "commandId": 4145428257173881,
     "dataframes": [
      "_sqldf"
     ]
    },
    "pythonIndentUnit": 2
   },
   "notebookName": "ny_02_ML_tuning",
   "widgets": {}
  }
 },
 "nbformat": 4,
 "nbformat_minor": 0
}
