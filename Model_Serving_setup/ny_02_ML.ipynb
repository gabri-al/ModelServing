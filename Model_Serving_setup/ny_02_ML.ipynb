{
 "cells": [
  {
   "cell_type": "markdown",
   "metadata": {
    "application/vnd.databricks.v1+cell": {
     "cellMetadata": {
      "byteLimit": 2048000,
      "rowLimit": 10000
     },
     "inputWidgets": {},
     "nuid": "5f83b3f4-16e0-4419-8dd9-4aa8611bcaf9",
     "showTitle": false,
     "title": ""
    }
   },
   "source": [
    "# AirBnb NY Listing Price Prediction: ML Models Set up"
   ]
  },
  {
   "cell_type": "markdown",
   "metadata": {
    "application/vnd.databricks.v1+cell": {
     "cellMetadata": {},
     "inputWidgets": {},
     "nuid": "64600a60-316b-4e43-b868-3a5eb22ecdd2",
     "showTitle": false,
     "title": ""
    }
   },
   "source": [
    "\n",
    "Resources on distributing Python with Ray:\n",
    "* Databricks [doc](https://docs.databricks.com/en/machine-learning/ray-integration.html)\n",
    "* Ray [documentation](https://docs.ray.io/en/latest/ray-more-libs/joblib.html) for Scikit-learn\n",
    "* Random Search [link](https://towardsdatascience.com/hyperparameter-tuning-the-random-forest-in-python-using-scikit-learn-28d2aa77dd74)\n",
    "* Logging GridSearchCV in MLFlow: [link](https://seunghan96.github.io/mlops/mlops4/)\n"
   ]
  },
  {
   "cell_type": "code",
   "execution_count": 0,
   "metadata": {
    "application/vnd.databricks.v1+cell": {
     "cellMetadata": {
      "byteLimit": 2048000,
      "rowLimit": 10000
     },
     "inputWidgets": {},
     "nuid": "3db39cfa-8389-4202-b42b-6abdc7dfd06f",
     "showTitle": false,
     "title": ""
    }
   },
   "outputs": [],
   "source": [
    "%pip install mlflow\n",
    "%pip install scikit-learn==1.4.1.post1"
   ]
  },
  {
   "cell_type": "code",
   "execution_count": 0,
   "metadata": {
    "application/vnd.databricks.v1+cell": {
     "cellMetadata": {
      "byteLimit": 2048000,
      "rowLimit": 10000
     },
     "inputWidgets": {},
     "nuid": "b8971ed1-3894-4b8d-b8c9-b2b6e8bc8d11",
     "showTitle": false,
     "title": ""
    }
   },
   "outputs": [],
   "source": [
    "import pandas as pd\n",
    "import numpy as np\n",
    "import mlflow\n",
    "from sklearn.model_selection import RandomizedSearchCV\n",
    "from sklearn.model_selection import GridSearchCV\n",
    "from sklearn.ensemble import RandomForestRegressor, GradientBoostingRegressor"
   ]
  },
  {
   "cell_type": "markdown",
   "metadata": {
    "application/vnd.databricks.v1+cell": {
     "cellMetadata": {
      "byteLimit": 2048000,
      "rowLimit": 10000
     },
     "inputWidgets": {},
     "nuid": "9b07fbe8-2f88-4633-8efa-c0c4c41969af",
     "showTitle": false,
     "title": ""
    }
   },
   "source": [
    "### Split into Train & Test"
   ]
  },
  {
   "cell_type": "code",
   "execution_count": 0,
   "metadata": {
    "application/vnd.databricks.v1+cell": {
     "cellMetadata": {
      "byteLimit": 2048000,
      "rowLimit": 10000
     },
     "inputWidgets": {},
     "nuid": "c6fcbe52-e74b-4fad-bf7e-593e253c3425",
     "showTitle": false,
     "title": ""
    }
   },
   "outputs": [],
   "source": [
    "catalog_ = f\"price_prediction\"\n",
    "schema_ = f\"ny_listing\"\n",
    "spark.sql(\"USE CATALOG \"+catalog_)\n",
    "spark.sql(\"USE SCHEMA \"+schema_)"
   ]
  },
  {
   "cell_type": "code",
   "execution_count": 0,
   "metadata": {
    "application/vnd.databricks.v1+cell": {
     "cellMetadata": {
      "byteLimit": 2048000,
      "rowLimit": 10000
     },
     "inputWidgets": {},
     "nuid": "4e6f2c4a-4646-42c7-89e9-998af63af3a5",
     "showTitle": false,
     "title": ""
    }
   },
   "outputs": [],
   "source": [
    "SEED_ = 142\n",
    "\n",
    "gold_data = spark.sql(\"SELECT * from gold_data\")\n",
    "train_df, test_df = gold_data.randomSplit([.85, .15], seed = SEED_)\n",
    "train_df = train_df.toPandas()\n",
    "test_df = test_df.toPandas()\n",
    "\n",
    "display(train_df.head(2))\n",
    "#display(test_df.head(2))"
   ]
  },
  {
   "cell_type": "code",
   "execution_count": 0,
   "metadata": {
    "application/vnd.databricks.v1+cell": {
     "cellMetadata": {
      "byteLimit": 2048000,
      "rowLimit": 10000
     },
     "inputWidgets": {},
     "nuid": "7179847c-0bea-480b-959e-931e131eb31a",
     "showTitle": false,
     "title": ""
    }
   },
   "outputs": [],
   "source": [
    "# Convert data into np arrays\n",
    "xTrain = train_df.iloc[:, 1:-1].to_numpy()\n",
    "yTrain = train_df.loc[:, 'price'].to_numpy()\n",
    "\n",
    "xTest = test_df.iloc[:, 1:-1].to_numpy()\n",
    "yTest = test_df.loc[:, 'price'].to_numpy()"
   ]
  },
  {
   "cell_type": "markdown",
   "metadata": {
    "application/vnd.databricks.v1+cell": {
     "cellMetadata": {},
     "inputWidgets": {},
     "nuid": "2a0134cf-80de-438d-8e93-a5940cf9efb8",
     "showTitle": false,
     "title": ""
    }
   },
   "source": [
    "### Random Forest : RandomSearch"
   ]
  },
  {
   "cell_type": "code",
   "execution_count": 0,
   "metadata": {
    "application/vnd.databricks.v1+cell": {
     "cellMetadata": {
      "byteLimit": 2048000,
      "rowLimit": 10000
     },
     "inputWidgets": {},
     "nuid": "845e25da-bdf5-4f51-9428-148be1761656",
     "showTitle": false,
     "title": ""
    }
   },
   "outputs": [],
   "source": [
    "base_model_ = RandomForestRegressor()\n",
    "\n",
    "# Set a wide range of hyper parameters\n",
    "hyper_par = {}\n",
    "hyper_par['n_estimators'] = [] + list(range(2, 2000, 10)) # Nr of trees\n",
    "hyper_par['max_depth'] = [] + list(range(10, 110, 11)) # Maximum number of levels in tree\n",
    "hyper_par['max_depth'].append(None)\n",
    "hyper_par['min_samples_split'] = [2, 5, 10] # Minimum number of samples required to split a node\n",
    "hyper_par['min_samples_leaf'] = [1, 2, 4] # Minimum number of samples required at each leaf node\n",
    "hyper_par['max_features'] = ['auto', 'sqrt', None] # Number of features to consider at every split\n",
    "hyper_par['bootstrap'] = [True, False] # Method of selecting samples for training each tree\n",
    "\n",
    "print(hyper_par)"
   ]
  },
  {
   "cell_type": "code",
   "execution_count": 0,
   "metadata": {
    "application/vnd.databricks.v1+cell": {
     "cellMetadata": {
      "byteLimit": 2048000,
      "rowLimit": 10000
     },
     "inputWidgets": {},
     "nuid": "f50cc6df-fa0a-4f90-b65a-bb3f98af9b08",
     "showTitle": false,
     "title": ""
    }
   },
   "outputs": [],
   "source": [
    "# Start Random Search\n",
    "RFRandom = RandomizedSearchCV(\n",
    "  estimator = base_model_,\n",
    "  param_distributions = hyper_par,\n",
    "  scoring = 'r2',\n",
    "  n_iter = 100,\n",
    "  cv = 3,\n",
    "  verbose=2,\n",
    "  random_state=SEED_,\n",
    "  n_jobs = -1)\n",
    "\n",
    "mlflow.sklearn.autolog()\n",
    "experiment_ = mlflow.set_experiment(\"/Users/gabriele.albini@databricks.com/ModelServing_mlflow/NY_Price_Listings_Testing\")\n",
    "with mlflow.start_run(experiment_id=experiment_.experiment_id, run_name=\"RandomForest Random Search\") as run:\n",
    "  RFRandom.fit(xTrain,yTrain)"
   ]
  },
  {
   "cell_type": "code",
   "execution_count": 0,
   "metadata": {
    "application/vnd.databricks.v1+cell": {
     "cellMetadata": {
      "byteLimit": 2048000,
      "rowLimit": 10000
     },
     "inputWidgets": {},
     "nuid": "77bbef2a-f60b-4349-a005-b4233f4ce513",
     "showTitle": false,
     "title": ""
    }
   },
   "outputs": [],
   "source": [
    "RFRandom_result_df = pd.DataFrame(RFRandom.cv_results_)\n",
    "display(RFRandom_result_df.head(50))"
   ]
  },
  {
   "cell_type": "code",
   "execution_count": 0,
   "metadata": {
    "application/vnd.databricks.v1+cell": {
     "cellMetadata": {
      "byteLimit": 2048000,
      "rowLimit": 10000
     },
     "inputWidgets": {},
     "nuid": "ecfa37d8-b50c-4b02-9f06-1c5d270ef76b",
     "showTitle": false,
     "title": ""
    }
   },
   "outputs": [],
   "source": [
    "spark.createDataFrame(RFRandom_result_df).createOrReplaceTempView(\"RF_Random_Search\")"
   ]
  },
  {
   "cell_type": "code",
   "execution_count": 0,
   "metadata": {
    "application/vnd.databricks.v1+cell": {
     "cellMetadata": {
      "byteLimit": 2048000,
      "implicitDf": true,
      "rowLimit": 10000
     },
     "inputWidgets": {},
     "nuid": "0b3cae24-d011-41bc-8d48-2af7ce3ebdca",
     "showTitle": false,
     "title": ""
    }
   },
   "outputs": [],
   "source": [
    "%sql\n",
    "DROP TABLE IF EXISTS RandomForest_RandomSearch;\n",
    "CREATE TABLE RandomForest_RandomSearch AS\n",
    "  select * from RF_Random_Search;"
   ]
  },
  {
   "cell_type": "markdown",
   "metadata": {
    "application/vnd.databricks.v1+cell": {
     "cellMetadata": {},
     "inputWidgets": {},
     "nuid": "17216e80-8186-4d56-b44e-0e0e9c087bf0",
     "showTitle": false,
     "title": ""
    }
   },
   "source": [
    "### Random Forest : GridSearch"
   ]
  },
  {
   "cell_type": "code",
   "execution_count": 0,
   "metadata": {
    "application/vnd.databricks.v1+cell": {
     "cellMetadata": {
      "byteLimit": 2048000,
      "rowLimit": 10000
     },
     "inputWidgets": {},
     "nuid": "d8b3ad8c-a0ee-4be5-a682-d7fd031fb078",
     "showTitle": false,
     "title": ""
    }
   },
   "outputs": [],
   "source": [
    "base_model_ = RandomForestRegressor()\n",
    "\n",
    "hyper_par = {'max_depth' : [None],\n",
    "             'max_features': ['sqrt', 'log2', None],\n",
    "             'n_estimators': [10,50,100,150,200]}\n",
    "\n",
    "# Reducing grid for testing purposes\n",
    "# hyper_par = {'max_depth' : [None],'max_features': [None],'n_estimators': [10,30]}"
   ]
  },
  {
   "cell_type": "code",
   "execution_count": 0,
   "metadata": {
    "application/vnd.databricks.v1+cell": {
     "cellMetadata": {
      "byteLimit": 2048000,
      "rowLimit": 10000
     },
     "inputWidgets": {},
     "nuid": "47e0088e-9425-49c3-b40d-ee16263679e7",
     "showTitle": false,
     "title": ""
    }
   },
   "outputs": [],
   "source": [
    "# Create Grid Search\n",
    "RFSearch = GridSearchCV(base_model_, param_grid = hyper_par, scoring = 'r2', cv = None, verbose=1) # Default 5-fold cross validation"
   ]
  },
  {
   "cell_type": "code",
   "execution_count": 0,
   "metadata": {
    "application/vnd.databricks.v1+cell": {
     "cellMetadata": {
      "byteLimit": 2048000,
      "rowLimit": 10000
     },
     "inputWidgets": {},
     "nuid": "1a66ca81-ad1a-4852-92d1-ea9e934549db",
     "showTitle": false,
     "title": ""
    }
   },
   "outputs": [],
   "source": [
    "# Start and Log GridSearch\n",
    "mlflow.sklearn.autolog()\n",
    "experiment_ = mlflow.set_experiment(\"/Users/gabriele.albini@databricks.com/ModelServing_mlflow/NY_Price_Listings_Testing\")\n",
    "with mlflow.start_run(experiment_id=experiment_.experiment_id, run_name=\"RandomForest Grid Search\") as run:\n",
    "  RFSearch.fit(xTrain,yTrain)\n",
    "\n",
    "RFSearch_result_df = pd.DataFrame(RFSearch.cv_results_)\n",
    "display(RFSearch_result_df.head(50))"
   ]
  },
  {
   "cell_type": "code",
   "execution_count": 0,
   "metadata": {
    "application/vnd.databricks.v1+cell": {
     "cellMetadata": {},
     "inputWidgets": {},
     "nuid": "e2011a4d-357c-4e68-90fe-73c3a115c99d",
     "showTitle": false,
     "title": ""
    }
   },
   "outputs": [],
   "source": []
  }
 ],
 "metadata": {
  "application/vnd.databricks.v1+notebook": {
   "dashboards": [],
   "language": "python",
   "notebookMetadata": {
    "mostRecentlyExecutedCommandWithImplicitDF": {
     "commandId": 4145428257163499,
     "dataframes": [
      "_sqldf"
     ]
    },
    "pythonIndentUnit": 2
   },
   "notebookName": "ny_02_ML",
   "widgets": {}
  }
 },
 "nbformat": 4,
 "nbformat_minor": 0
}
