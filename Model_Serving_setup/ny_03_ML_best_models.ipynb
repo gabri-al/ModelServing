{
 "cells": [
  {
   "cell_type": "markdown",
   "metadata": {
    "application/vnd.databricks.v1+cell": {
     "cellMetadata": {
      "byteLimit": 2048000,
      "rowLimit": 10000
     },
     "inputWidgets": {},
     "nuid": "5f83b3f4-16e0-4419-8dd9-4aa8611bcaf9",
     "showTitle": false,
     "title": ""
    }
   },
   "source": [
    "# AirBnb NY Listing Price Prediction: ML Best Models"
   ]
  },
  {
   "cell_type": "code",
   "execution_count": 0,
   "metadata": {
    "application/vnd.databricks.v1+cell": {
     "cellMetadata": {
      "byteLimit": 2048000,
      "rowLimit": 10000
     },
     "inputWidgets": {},
     "nuid": "3db39cfa-8389-4202-b42b-6abdc7dfd06f",
     "showTitle": false,
     "title": ""
    }
   },
   "outputs": [],
   "source": [
    "%pip install mlflow\n",
    "%pip install scikit-learn==1.4.1.post1"
   ]
  },
  {
   "cell_type": "code",
   "execution_count": 0,
   "metadata": {
    "application/vnd.databricks.v1+cell": {
     "cellMetadata": {},
     "inputWidgets": {},
     "nuid": "708353a4-7ded-4ee3-a0b1-053fa849580c",
     "showTitle": false,
     "title": ""
    }
   },
   "outputs": [],
   "source": [
    "#dbutils.library.restartPython()"
   ]
  },
  {
   "cell_type": "code",
   "execution_count": 0,
   "metadata": {
    "application/vnd.databricks.v1+cell": {
     "cellMetadata": {
      "byteLimit": 2048000,
      "rowLimit": 10000
     },
     "inputWidgets": {},
     "nuid": "b8971ed1-3894-4b8d-b8c9-b2b6e8bc8d11",
     "showTitle": false,
     "title": ""
    }
   },
   "outputs": [],
   "source": [
    "import pandas as pd\n",
    "import numpy as np\n",
    "import mlflow\n",
    "\n",
    "from sklearn.metrics import make_scorer, mean_absolute_percentage_error\n",
    "from sklearn.model_selection import cross_val_score\n",
    "from sklearn.ensemble import RandomForestRegressor, GradientBoostingRegressor"
   ]
  },
  {
   "cell_type": "markdown",
   "metadata": {
    "application/vnd.databricks.v1+cell": {
     "cellMetadata": {
      "byteLimit": 2048000,
      "rowLimit": 10000
     },
     "inputWidgets": {},
     "nuid": "9b07fbe8-2f88-4633-8efa-c0c4c41969af",
     "showTitle": false,
     "title": ""
    }
   },
   "source": [
    "### Split into Train & Test"
   ]
  },
  {
   "cell_type": "code",
   "execution_count": 0,
   "metadata": {
    "application/vnd.databricks.v1+cell": {
     "cellMetadata": {
      "byteLimit": 2048000,
      "rowLimit": 10000
     },
     "inputWidgets": {},
     "nuid": "c6fcbe52-e74b-4fad-bf7e-593e253c3425",
     "showTitle": false,
     "title": ""
    }
   },
   "outputs": [],
   "source": [
    "catalog_ = f\"price_prediction\"\n",
    "schema_ = f\"ny_listing\"\n",
    "spark.sql(\"USE CATALOG \"+catalog_)\n",
    "spark.sql(\"USE SCHEMA \"+schema_)"
   ]
  },
  {
   "cell_type": "code",
   "execution_count": 0,
   "metadata": {
    "application/vnd.databricks.v1+cell": {
     "cellMetadata": {
      "byteLimit": 2048000,
      "rowLimit": 10000
     },
     "inputWidgets": {},
     "nuid": "4e6f2c4a-4646-42c7-89e9-998af63af3a5",
     "showTitle": false,
     "title": ""
    }
   },
   "outputs": [],
   "source": [
    "SEED_ = 155\n",
    "\n",
    "gold_data = spark.sql(\"SELECT * from gold_data\")\n",
    "train_df, test_df = gold_data.randomSplit([.85, .15], seed = SEED_)\n",
    "train_df = train_df.toPandas()\n",
    "test_df = test_df.toPandas()\n",
    "\n",
    "display(train_df.head(2))\n",
    "#display(test_df.head(2))"
   ]
  },
  {
   "cell_type": "code",
   "execution_count": 0,
   "metadata": {
    "application/vnd.databricks.v1+cell": {
     "cellMetadata": {
      "byteLimit": 2048000,
      "rowLimit": 10000
     },
     "inputWidgets": {},
     "nuid": "7179847c-0bea-480b-959e-931e131eb31a",
     "showTitle": false,
     "title": ""
    }
   },
   "outputs": [],
   "source": [
    "# Convert data into np arrays\n",
    "xTrain = train_df.iloc[:, 1:-1].to_numpy()\n",
    "yTrain = train_df.loc[:, 'price'].to_numpy()\n",
    "\n",
    "xTest = test_df.iloc[:, 1:-1].to_numpy()\n",
    "yTest = test_df.loc[:, 'price'].to_numpy()"
   ]
  },
  {
   "cell_type": "markdown",
   "metadata": {
    "application/vnd.databricks.v1+cell": {
     "cellMetadata": {},
     "inputWidgets": {},
     "nuid": "f44d9dd1-2c69-4f0c-90b0-d41f47943957",
     "showTitle": false,
     "title": ""
    }
   },
   "source": [
    "### Best Model Train"
   ]
  },
  {
   "cell_type": "code",
   "execution_count": 0,
   "metadata": {
    "application/vnd.databricks.v1+cell": {
     "cellMetadata": {},
     "inputWidgets": {},
     "nuid": "e1b222c4-5357-4dbe-b10b-111dd873f25b",
     "showTitle": false,
     "title": ""
    }
   },
   "outputs": [],
   "source": [
    "_mlflow_exp = '/Users/gabriele.albini@databricks.com/ModelServing_mlflow/NY_Price_Listings'"
   ]
  },
  {
   "cell_type": "code",
   "execution_count": 0,
   "metadata": {
    "application/vnd.databricks.v1+cell": {
     "cellMetadata": {
      "byteLimit": 2048000,
      "rowLimit": 10000
     },
     "inputWidgets": {},
     "nuid": "2c6a9c02-06c1-4f57-a015-fbab6c334392",
     "showTitle": false,
     "title": ""
    }
   },
   "outputs": [],
   "source": [
    "## Function to train and test a model\n",
    "def train_test_model(model, xTrain, yTrain, xTest, yTest, metric, mlflow_experiment, mlflow_run_name):\n",
    "  mlflow.sklearn.autolog()\n",
    "  with mlflow.start_run(experiment_id=mlflow_experiment.experiment_id, run_name=mlflow_run_name) as run:\n",
    "    trained_ = model.fit(xTrain, yTrain)\n",
    "    pred_yTrain = trained_.predict(xTrain) \n",
    "    pred_yTest = trained_.predict(xTest)\n",
    "    performance = metric(yTest, pred_yTest)\n",
    "    ## ml flow logging\n",
    "    signature_ = mlflow.models.infer_signature(model_input=xTrain[:10], model_output=pred_yTrain[:10])\n",
    "    dataset_train = mlflow.data.load_delta(table_name= str(catalog_+'.'+schema_+'.gold_data'))\n",
    "    mlflow.log_input(dataset_train, context=\"training\") # Allows to build UC Lineage\n",
    "    mlflow.log_metric(\"OBJECTIVE_METRIC\", performance)\n",
    "    mlflow.sklearn.log_model(sk_model = model, artifact_path = \"model\", signature=signature_, input_example=xTest)\n",
    "    run_id = mlflow.active_run().info.run_id\n",
    "\n",
    "  return trained_, performance, run_id"
   ]
  },
  {
   "cell_type": "code",
   "execution_count": 0,
   "metadata": {
    "application/vnd.databricks.v1+cell": {
     "cellMetadata": {
      "byteLimit": 2048000,
      "rowLimit": 10000
     },
     "inputWidgets": {},
     "nuid": "29a7fddf-2bc1-403e-9cef-4cb4f46d5fe3",
     "showTitle": false,
     "title": ""
    }
   },
   "outputs": [],
   "source": [
    "## Train and test\n",
    "experiment_ = mlflow.set_experiment(_mlflow_exp)\n",
    "\n",
    "### RF\n",
    "RF_best, RF_best_performance, RF_run_id = train_test_model(\n",
    "  RandomForestRegressor(\n",
    "    max_depth = 50,\n",
    "    max_features = None,\n",
    "    n_estimators = 131,\n",
    "    random_state = SEED_\n",
    "  ),\n",
    "  xTrain,\n",
    "  yTrain,\n",
    "  xTest,\n",
    "  yTest,\n",
    "  mean_absolute_percentage_error,\n",
    "  experiment_,\n",
    "  \"RF_best\"\n",
    ")\n",
    "print(\"Random Forest, Mean absolute percentage error on test set: %.4f\" % RF_best_performance)"
   ]
  },
  {
   "cell_type": "code",
   "execution_count": 0,
   "metadata": {
    "application/vnd.databricks.v1+cell": {
     "cellMetadata": {},
     "inputWidgets": {},
     "nuid": "dd813c06-b5a6-4a6e-9847-e0069e9af1b3",
     "showTitle": false,
     "title": ""
    }
   },
   "outputs": [],
   "source": [
    "### XGB\n",
    "XGB_best, XGB_best_performance, XGB_run_id = train_test_model(\n",
    "  GradientBoostingRegressor(\n",
    "    learning_rate = 0.9,\n",
    "    max_depth = 50,\n",
    "    max_features = None,\n",
    "    n_estimators = 844,\n",
    "    random_state = SEED_\n",
    "  ),\n",
    "  xTrain,\n",
    "  yTrain,\n",
    "  xTest,\n",
    "  yTest,\n",
    "  mean_absolute_percentage_error,\n",
    "  experiment_,\n",
    "  \"XGB_best\"\n",
    ")\n",
    "print(\"XGBoost Regressor, Mean absolute percentage error on test set: %.4f\" % XGB_best_performance)"
   ]
  },
  {
   "cell_type": "code",
   "execution_count": 0,
   "metadata": {
    "application/vnd.databricks.v1+cell": {
     "cellMetadata": {
      "byteLimit": 2048000,
      "rowLimit": 10000
     },
     "inputWidgets": {},
     "nuid": "ff5696a7-06be-44ef-81f1-013816fad0b0",
     "showTitle": false,
     "title": ""
    }
   },
   "outputs": [],
   "source": [
    "# Register RF Model\n",
    "catalog = catalog_\n",
    "schema = schema_\n",
    "model_name = \"NY_Price_Listings_RF\"\n",
    "mlflow.set_registry_uri(\"databricks-uc\")\n",
    "mlflow.register_model(\n",
    "    model_uri=\"runs:/\"+RF_run_id+\"/model\",\n",
    "    name=f\"{catalog}.{schema}.{model_name}\"\n",
    ")"
   ]
  },
  {
   "cell_type": "code",
   "execution_count": 0,
   "metadata": {
    "application/vnd.databricks.v1+cell": {
     "cellMetadata": {
      "byteLimit": 2048000,
      "rowLimit": 10000
     },
     "inputWidgets": {},
     "nuid": "3c20e18b-c489-46be-83bf-dd70ad278d7b",
     "showTitle": false,
     "title": ""
    }
   },
   "outputs": [],
   "source": [
    "# Register XGB Model\n",
    "catalog = catalog_\n",
    "schema = schema_\n",
    "model_name = \"NY_Price_Listings_XGB\"\n",
    "mlflow.set_registry_uri(\"databricks-uc\")\n",
    "mlflow.register_model(\n",
    "    model_uri=\"runs:/\"+XGB_run_id+\"/model\",\n",
    "    name=f\"{catalog}.{schema}.{model_name}\"\n",
    ")"
   ]
  }
 ],
 "metadata": {
  "application/vnd.databricks.v1+notebook": {
   "dashboards": [],
   "environmentMetadata": null,
   "language": "python",
   "notebookMetadata": {
    "mostRecentlyExecutedCommandWithImplicitDF": {
     "commandId": 4145428257173881,
     "dataframes": [
      "_sqldf"
     ]
    },
    "pythonIndentUnit": 2
   },
   "notebookName": "ny_03_ML_best_models",
   "widgets": {}
  }
 },
 "nbformat": 4,
 "nbformat_minor": 0
}
