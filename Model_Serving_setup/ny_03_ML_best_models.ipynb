{
 "cells": [
  {
   "cell_type": "markdown",
   "metadata": {
    "application/vnd.databricks.v1+cell": {
     "cellMetadata": {
      "byteLimit": 2048000,
      "rowLimit": 10000
     },
     "inputWidgets": {},
     "nuid": "5f83b3f4-16e0-4419-8dd9-4aa8611bcaf9",
     "showTitle": false,
     "title": ""
    }
   },
   "source": [
    "# AirBnb NY Listing Price Prediction: ML Best Models"
   ]
  },
  {
   "cell_type": "code",
   "execution_count": 0,
   "metadata": {
    "application/vnd.databricks.v1+cell": {
     "cellMetadata": {
      "byteLimit": 2048000,
      "rowLimit": 10000
     },
     "inputWidgets": {},
     "nuid": "3db39cfa-8389-4202-b42b-6abdc7dfd06f",
     "showTitle": false,
     "title": ""
    }
   },
   "outputs": [],
   "source": [
    "%pip install mlflow==2.11.1\n",
    "%pip install scikit-learn==1.4.0"
   ]
  },
  {
   "cell_type": "code",
   "execution_count": 0,
   "metadata": {
    "application/vnd.databricks.v1+cell": {
     "cellMetadata": {
      "byteLimit": 2048000,
      "rowLimit": 10000
     },
     "inputWidgets": {},
     "nuid": "708353a4-7ded-4ee3-a0b1-053fa849580c",
     "showTitle": false,
     "title": ""
    }
   },
   "outputs": [],
   "source": [
    "dbutils.library.restartPython()"
   ]
  },
  {
   "cell_type": "code",
   "execution_count": 0,
   "metadata": {
    "application/vnd.databricks.v1+cell": {
     "cellMetadata": {
      "byteLimit": 2048000,
      "rowLimit": 10000
     },
     "inputWidgets": {},
     "nuid": "b8971ed1-3894-4b8d-b8c9-b2b6e8bc8d11",
     "showTitle": false,
     "title": ""
    }
   },
   "outputs": [],
   "source": [
    "import pandas as pd\n",
    "import numpy as np\n",
    "import mlflow\n",
    "\n",
    "from sklearn.metrics import mean_absolute_percentage_error, mean_squared_error, r2_score\n",
    "from sklearn.ensemble import RandomForestRegressor, GradientBoostingRegressor"
   ]
  },
  {
   "cell_type": "markdown",
   "metadata": {
    "application/vnd.databricks.v1+cell": {
     "cellMetadata": {
      "byteLimit": 2048000,
      "rowLimit": 10000
     },
     "inputWidgets": {},
     "nuid": "9b07fbe8-2f88-4633-8efa-c0c4c41969af",
     "showTitle": false,
     "title": ""
    }
   },
   "source": [
    "### Split into Train & Test"
   ]
  },
  {
   "cell_type": "code",
   "execution_count": 0,
   "metadata": {
    "application/vnd.databricks.v1+cell": {
     "cellMetadata": {
      "byteLimit": 2048000,
      "rowLimit": 10000
     },
     "inputWidgets": {},
     "nuid": "c6fcbe52-e74b-4fad-bf7e-593e253c3425",
     "showTitle": false,
     "title": ""
    }
   },
   "outputs": [],
   "source": [
    "catalog_ = f\"price_prediction\"\n",
    "schema_ = f\"ny_listing\"\n",
    "spark.sql(\"USE CATALOG \"+catalog_)\n",
    "spark.sql(\"USE SCHEMA \"+schema_)"
   ]
  },
  {
   "cell_type": "code",
   "execution_count": 0,
   "metadata": {
    "application/vnd.databricks.v1+cell": {
     "cellMetadata": {
      "byteLimit": 2048000,
      "rowLimit": 10000
     },
     "inputWidgets": {},
     "nuid": "4e6f2c4a-4646-42c7-89e9-998af63af3a5",
     "showTitle": false,
     "title": ""
    }
   },
   "outputs": [],
   "source": [
    "SEED_ = 334\n",
    "\n",
    "gold_data = spark.sql(\"SELECT * from gold_data\")\n",
    "train_df, test_df = gold_data.randomSplit([.85, .15], seed = SEED_)\n",
    "train_df = train_df.toPandas()\n",
    "test_df = test_df.toPandas()\n",
    "\n",
    "display(train_df.head(2))\n",
    "#display(test_df.head(2))"
   ]
  },
  {
   "cell_type": "code",
   "execution_count": 0,
   "metadata": {
    "application/vnd.databricks.v1+cell": {
     "cellMetadata": {
      "byteLimit": 2048000,
      "rowLimit": 10000
     },
     "inputWidgets": {},
     "nuid": "7179847c-0bea-480b-959e-931e131eb31a",
     "showTitle": false,
     "title": ""
    }
   },
   "outputs": [],
   "source": [
    "# Convert data into np arrays\n",
    "xTrain = train_df.iloc[:, 1:-1].to_numpy()\n",
    "yTrain = train_df.loc[:, 'price'].to_numpy()\n",
    "\n",
    "xTest = test_df.iloc[:, 1:-1].to_numpy()\n",
    "yTest = test_df.loc[:, 'price'].to_numpy()"
   ]
  },
  {
   "cell_type": "markdown",
   "metadata": {
    "application/vnd.databricks.v1+cell": {
     "cellMetadata": {},
     "inputWidgets": {},
     "nuid": "2d44746e-fe79-4345-959f-e89e3e3e9b3e",
     "showTitle": false,
     "title": ""
    }
   },
   "source": [
    "### Train Best Models"
   ]
  },
  {
   "cell_type": "code",
   "execution_count": 0,
   "metadata": {
    "application/vnd.databricks.v1+cell": {
     "cellMetadata": {
      "byteLimit": 2048000,
      "rowLimit": 10000
     },
     "inputWidgets": {},
     "nuid": "8c6786ba-25f5-4c7b-9314-597305bd5ed6",
     "showTitle": false,
     "title": ""
    }
   },
   "outputs": [],
   "source": [
    "### MLFlow Parameters\n",
    "\n",
    "_mlflow_exp = '/Users/gabriele.albini@databricks.com/ModelServing_mlflow/NY_Price_Listings'\n",
    "\n",
    "mlflow.autolog()\n",
    "\n",
    "# Pick run IDs corresponding to the best 2-3 models from the tuning phase\n",
    "xgb_run_ids = ['9aae6a33db714dc0ad421c61f71ddfc4',\n",
    "               'd1b7da1ab0f046b79d6173e18f623964']\n",
    "\n",
    "rf_run_ids = ['2a52b95aa4634158a025173b168ec908',\n",
    "              '7f579c75821e4116832c7ff1a7d4be6c']\n",
    "\n",
    "# Pick metrics to be logged\n",
    "metrics_to_log = {\n",
    "  'mape': mean_absolute_percentage_error,\n",
    "  'r2': r2_score,\n",
    "  'mse': mean_squared_error\n",
    "}"
   ]
  },
  {
   "cell_type": "code",
   "execution_count": 0,
   "metadata": {
    "application/vnd.databricks.v1+cell": {
     "cellMetadata": {
      "byteLimit": 2048000,
      "rowLimit": 10000
     },
     "inputWidgets": {},
     "nuid": "df8468d7-7eee-4249-89f7-b4723466fbf6",
     "showTitle": false,
     "title": ""
    }
   },
   "outputs": [],
   "source": [
    "# Function to Create a model with parameters from an MLFlow runID\n",
    "def create_model(model_type, run_id):\n",
    "  client = mlflow.tracking.MlflowClient()\n",
    "  run = client.get_run(run_id)\n",
    "  parameters = run.data.params\n",
    "  if model_type == 'GradientBoostingRegressor':\n",
    "    _model = GradientBoostingRegressor(\n",
    "      learning_rate = float(parameters['learning_rate']),\n",
    "      max_depth = int(parameters['max_depth']) if parameters['max_depth'] else parameters['max_depth'],\n",
    "      max_features = str(parameters['max_features']) if parameters['max_features'] != 'None' else None,\n",
    "      n_estimators = int(parameters['n_estimators']) if parameters['n_estimators'] else parameters['n_estimators'],\n",
    "      random_state = SEED_)\n",
    "  else:\n",
    "    _model = RandomForestRegressor(\n",
    "      max_depth = int(parameters['max_depth']) if parameters['max_depth'] != 'None' else None,\n",
    "      max_features = str(parameters['max_features']) if parameters['max_features'] != 'None' else None,\n",
    "      n_estimators = int(parameters['n_estimators']) if parameters['n_estimators'] else parameters['n_estimators'],\n",
    "      random_state = SEED_)\n",
    "    \n",
    "  return _model\n",
    "\n",
    "# Function to Train the model, logging within a running parent mlflow run\n",
    "def train_test_model(model, xTrain, yTrain, xTest, yTest, metrics):\n",
    "  with mlflow.start_run(nested=True) as run:\n",
    "    trained_ = model.fit(xTrain, yTrain)\n",
    "    pred_yTrain = trained_.predict(xTrain) \n",
    "    pred_yTest = trained_.predict(xTest)\n",
    "    ## ml flow logging\n",
    "    signature_ = mlflow.models.infer_signature(model_input=xTrain[:10], model_output=pred_yTrain[:10])\n",
    "    dataset_train = mlflow.data.load_delta(table_name= str(catalog_+'.'+schema_+'.gold_data'))\n",
    "    mlflow.log_input(dataset_train, context=\"training\") # Allows to build UC Lineage\n",
    "    performances_ = {}\n",
    "    for m_name in metrics.keys():\n",
    "      _metric = metrics[m_name]\n",
    "      performances_['train'+m_name] = _metric(yTrain, pred_yTrain)\n",
    "      performances_['test'+m_name] = _metric(yTest, pred_yTest)\n",
    "    mlflow.sklearn.log_model(sk_model = model, artifact_path = \"model\", signature=signature_, input_example=xTest)\n",
    "    run_id = mlflow.active_run().info.run_id\n",
    "\n",
    "  return trained_, performances_, run_id"
   ]
  },
  {
   "cell_type": "markdown",
   "metadata": {
    "application/vnd.databricks.v1+cell": {
     "cellMetadata": {},
     "inputWidgets": {},
     "nuid": "8f10c1d5-84b1-4299-a152-71476b65cc7f",
     "showTitle": false,
     "title": ""
    }
   },
   "source": [
    "##### XGB Runs"
   ]
  },
  {
   "cell_type": "code",
   "execution_count": 0,
   "metadata": {
    "application/vnd.databricks.v1+cell": {
     "cellMetadata": {
      "byteLimit": 2048000,
      "rowLimit": 10000
     },
     "inputWidgets": {},
     "nuid": "48d11a9a-b6c5-4b82-9871-eed65154c9bf",
     "showTitle": false,
     "title": ""
    }
   },
   "outputs": [],
   "source": [
    "### Start XGB Best Run\n",
    "with mlflow.start_run(experiment_id = mlflow.set_experiment(_mlflow_exp).experiment_id, run_name = \"XGB_best\") as run:\n",
    "\n",
    "  xgb_results = {}\n",
    "  for _id in xgb_run_ids:\n",
    "    xgb_model = create_model('GradientBoostingRegressor', _id)\n",
    "    xgb_best, xgb_performances, xgb_run_id = train_test_model(\n",
    "      xgb_model,\n",
    "      xTrain,\n",
    "      yTrain,\n",
    "      xTest,\n",
    "      yTest,\n",
    "      metrics_to_log)\n",
    "    xgb_results[xgb_run_id] = (xgb_best, xgb_performances)\n",
    "\n",
    "print(xgb_results)"
   ]
  },
  {
   "cell_type": "markdown",
   "metadata": {
    "application/vnd.databricks.v1+cell": {
     "cellMetadata": {},
     "inputWidgets": {},
     "nuid": "b9a60721-6fd5-4228-be24-ceb8797d4870",
     "showTitle": false,
     "title": ""
    }
   },
   "source": [
    "##### RF Runs"
   ]
  },
  {
   "cell_type": "code",
   "execution_count": 0,
   "metadata": {
    "application/vnd.databricks.v1+cell": {
     "cellMetadata": {
      "byteLimit": 2048000,
      "rowLimit": 10000
     },
     "inputWidgets": {},
     "nuid": "90b9b4b8-2fd3-43fa-be41-60c5bb262641",
     "showTitle": false,
     "title": ""
    }
   },
   "outputs": [],
   "source": [
    "with mlflow.start_run(experiment_id = mlflow.set_experiment(_mlflow_exp).experiment_id, run_name = \"RF_best\") as run:\n",
    "\n",
    "  rf_results = {}\n",
    "  for _id in rf_run_ids:\n",
    "    rf_model = create_model('RandomForestRegressor', _id)\n",
    "    rf_best, rf_performances, rf_run_id = train_test_model(\n",
    "      rf_model,\n",
    "      xTrain,\n",
    "      yTrain,\n",
    "      xTest,\n",
    "      yTest,\n",
    "      metrics_to_log)\n",
    "    rf_results[rf_run_id] = (rf_best, rf_performances)\n",
    "\n",
    "print(rf_results)"
   ]
  },
  {
   "cell_type": "markdown",
   "metadata": {
    "application/vnd.databricks.v1+cell": {
     "cellMetadata": {},
     "inputWidgets": {},
     "nuid": "c3dec020-dbe6-496a-a097-f71b0a23d0f5",
     "showTitle": false,
     "title": ""
    }
   },
   "source": [
    "### Register Final Models on UC"
   ]
  },
  {
   "cell_type": "code",
   "execution_count": 0,
   "metadata": {
    "application/vnd.databricks.v1+cell": {
     "cellMetadata": {
      "byteLimit": 2048000,
      "rowLimit": 10000
     },
     "inputWidgets": {},
     "nuid": "3c20e18b-c489-46be-83bf-dd70ad278d7b",
     "showTitle": false,
     "title": ""
    }
   },
   "outputs": [],
   "source": [
    "# Register XGB Model\n",
    "XGB_run_id = 'c84875234e8a49cdac549e991290505c'\n",
    "catalog = catalog_\n",
    "schema = schema_\n",
    "model_name = \"NY_Price_Listings_XGB\"\n",
    "mlflow.set_registry_uri(\"databricks-uc\")\n",
    "mlflow.register_model(\n",
    "    model_uri=\"runs:/\"+XGB_run_id+\"/model\",\n",
    "    name=f\"{catalog}.{schema}.{model_name}\"\n",
    ")"
   ]
  },
  {
   "cell_type": "code",
   "execution_count": 0,
   "metadata": {
    "application/vnd.databricks.v1+cell": {
     "cellMetadata": {
      "byteLimit": 2048000,
      "rowLimit": 10000
     },
     "inputWidgets": {},
     "nuid": "ff5696a7-06be-44ef-81f1-013816fad0b0",
     "showTitle": false,
     "title": ""
    }
   },
   "outputs": [],
   "source": [
    "# Register RF Model\n",
    "RF_run_id = 'acc17c307379492fafa66bb2013836ab'\n",
    "catalog = catalog_\n",
    "schema = schema_\n",
    "model_name = \"NY_Price_Listings_RF\"\n",
    "mlflow.set_registry_uri(\"databricks-uc\")\n",
    "mlflow.register_model(\n",
    "    model_uri=\"runs:/\"+RF_run_id+\"/model\",\n",
    "    name=f\"{catalog}.{schema}.{model_name}\"\n",
    ")"
   ]
  }
 ],
 "metadata": {
  "application/vnd.databricks.v1+notebook": {
   "dashboards": [],
   "environmentMetadata": null,
   "language": "python",
   "notebookMetadata": {
    "mostRecentlyExecutedCommandWithImplicitDF": {
     "commandId": 4145428257173881,
     "dataframes": [
      "_sqldf"
     ]
    },
    "pythonIndentUnit": 2
   },
   "notebookName": "ny_03_ML_best_models",
   "widgets": {}
  }
 },
 "nbformat": 4,
 "nbformat_minor": 0
}
